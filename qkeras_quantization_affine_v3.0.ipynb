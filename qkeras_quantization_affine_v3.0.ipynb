{
 "cells": [
  {
   "cell_type": "code",
   "execution_count": 11,
   "id": "e9368148",
   "metadata": {},
   "outputs": [
    {
     "name": "stdout",
     "output_type": "stream",
     "text": [
      "2.6.0\n",
      "0.9.0\n",
      "1.3.4\n",
      "1.19.5\n"
     ]
    }
   ],
   "source": [
    "import numpy as np\n",
    "import pandas as pd\n",
    "import pickle\n",
    "import matplotlib.pyplot as plt\n",
    "import seaborn as sns\n",
    "from sklearn.model_selection import train_test_split\n",
    "import os\n",
    "import qkeras\n",
    "import tensorflow as tf \n",
    "print(tf.__version__)\n",
    "print(qkeras.__version__)\n",
    "print(pd.__version__)\n",
    "print(np.__version__)\n",
    "from nn_globals import *\n",
    "from nn_plotting import __generate_delta_plots__\n",
    "from dataset import muon_data_split\n",
    "from keras.models import Model\n",
    "from nn_evaluate import huber_loss, k_fold_validation\n",
    "from nn_pruning_module_support import loading_trained_model\n",
    "from nn_training import train_model, lr_schedule\n",
    "from keras.regularizers import L1L2\n",
    "from tensorflow.keras.optimizers import Adam\n",
    "from qkeras.qlayers import QDense, QActivation\n",
    "from keras.layers import Input, BatchNormalization, Dense, Activation\n",
    "from keras.callbacks import LearningRateScheduler, TerminateOnNaN, EarlyStopping, ModelCheckpoint\n",
    "from nn_quantization_module_support import save_qmodel"
   ]
  },
  {
   "cell_type": "code",
   "execution_count": 12,
   "id": "26ec1235",
   "metadata": {},
   "outputs": [
    {
     "name": "stderr",
     "output_type": "stream",
     "text": [
      "[INFO    ] Loading muon data from ./data/NN_input_params_FlatXYZ.npz ...\n",
      "[INFO    ] Loaded the variables with shape (19300000, 25)\n",
      "[INFO    ] Loaded the parameters with shape (19300000, 6)\n",
      "[INFO    ] Loaded the encoded variables with shape (3284620, 23)\n",
      "[INFO    ] Loaded the encoded parameters with shape (3284620,)\n",
      "[INFO    ] Loaded # of training and testing events: (2249964, 1034656)\n",
      "[WARNING ] The last batch for training could be too few! (2024967%128)=7. Please change test_size.\n",
      "[WARNING ] Try this formula: int(int(3284620*0.685)*0.9) % 128\n",
      "[WARNING ] The last batch for training after mixing could be too few! (4049935%128)=15. Please change test_size.\n",
      "[WARNING ] Try this formula: int(int(3284620*0.685)*2*0.9) % 128\n"
     ]
    }
   ],
   "source": [
    "# Import muon data\n",
    "# 'x' is the array of input variables, 'y' is the q/pT\n",
    "x_train_displ, x_test_displ, y_train_displ, y_test_displ, dxy_train_displ, dxy_test_displ= muon_data_split(filename=DATAFILEPATH, \n",
    "                                                                                                           reg_pt_scale=REG_PT_SCALE, \n",
    "                                                                                                           reg_dxy_scale=REG_DXY_SCALE, \n",
    "                                                                                                           test_size=TEST_SIZE,\n",
    "                                                                                                           nvariables = NVARIABLES,\n",
    "                                                                                                           nentries= NENTRIES,\n",
    "                                                                                                         batch_size = 128)"
   ]
  },
  {
   "cell_type": "code",
   "execution_count": 13,
   "id": "f9252583",
   "metadata": {},
   "outputs": [],
   "source": [
    "def create_model_quantized_randomized(\n",
    "                           bits, \n",
    "                           int_bits, \n",
    "                           nvariables, \n",
    "                           lr=0.001, \n",
    "                           clipnorm=10., \n",
    "                           initializer = \"he_uniform\",\n",
    "                           nodes1=64, \n",
    "                           nodes2=32, \n",
    "                           nodes3=16, \n",
    "                           outnodes=2,\n",
    "                           l1_reg = 0.0, \n",
    "                           l2_reg = 0.0,\n",
    "                           quantization_type = \"S\"): # 'S' for symmetric, 'A' for asymmetric, 'H' for Hybrid\n",
    "  \n",
    "    # intializing the quantizers and layer variables\n",
    "    if quantization_type == \"S\": \n",
    "        kernelQuantizer = \"quantized_bits(bits={},integer={},symmetric = True,use_stochastic_rounding=True, qnoise_factor = 1.0, alpha = 1.0)\".format(bits, int_bits)\n",
    "        activationQuantizer = \"quantized_tanh(bits ={}, symmetric = False, use_stochastic_rounding=True, use_real_tanh =True)\".format(bits)\n",
    "    if quantization_type == \"A\":\n",
    "        kernelQuantizer = \"quantized_bits(bits={},integer={},symmetric = False,use_stochastic_rounding=True, qnoise_factor = 1.0, alpha = 1.0)\".format(bits, int_bits)\n",
    "        activationQuantizer = \"quantized_tanh(bits ={}, symmetric = False, use_stochastic_rounding=True, use_real_tanh =True)\".format(bits)        \n",
    "    else:\n",
    "        firstLayerQuantizer = \"quantized_bits(bits={},integer={},symmetric = False,use_stochastic_rounding=True, qnoise_factor = 1.0, alpha = 1.0)\".format(bits, int_bits)\n",
    "        kernelQuantizer = \"quantized_bits(bits={},integer={},symmetric = True,use_stochastic_rounding=True, qnoise_factor = 1.0, alpha = 1.0)\".format(bits, int_bits)\n",
    "        activationQuantizer = \"quantized_tanh(bits ={}, symmetric = True, use_stochastic_rounding=True, use_real_tanh =True)\".format(bits)\n",
    "    \n",
    "    regularizer = L1L2(l1=l1_reg, l2=l2_reg)\n",
    "    bn_momentum = 0.9\n",
    "    eps = 1e-4\n",
    "\n",
    "    x = x_in = Input((nvariables,))\n",
    "    x = BatchNormalization(epsilon=eps, momentum=bn_momentum,name=\"bn-input\")(x)\n",
    "    if quantization_type == \"H\":\n",
    "        x = QDense(nodes1, \n",
    "                   kernel_quantizer = firstLayerQuantizer,\n",
    "                   kernel_initializer=initializer,\n",
    "                   use_bias = False,\n",
    "                   kernel_regularizer = regularizer,\n",
    "                   name=\"hidden-dense-1\")(x)\n",
    "    else:\n",
    "        x = QDense(nodes1, \n",
    "                   kernel_quantizer = kernelQuantizer,\n",
    "                   kernel_initializer=initializer,\n",
    "                   use_bias = False,\n",
    "                   kernel_regularizer = regularizer,\n",
    "                   name=\"hidden-dense-1\")(x)\n",
    "    x = BatchNormalization(epsilon = eps, momentum  = bn_momentum, name = \"bn-1\")(x)\n",
    "    x = QActivation(activation = activationQuantizer,\n",
    "                    name=\"act_1\")(x)        \n",
    "    \n",
    "    if nodes2:\n",
    "    \n",
    "        x = QDense(nodes2, \n",
    "                   kernel_quantizer = kernelQuantizer, \n",
    "                   kernel_initializer=initializer,\n",
    "                   use_bias = False,\n",
    "                   kernel_regularizer = regularizer,\n",
    "                   name=\"hidden-dense-2\")(x)\n",
    "        x = BatchNormalization(epsilon = eps, momentum  = bn_momentum, name = \"bn-2\")(x)\n",
    "        x = QActivation(activation = activationQuantizer,\n",
    "                    name=\"act_2\")(x)\n",
    "        if nodes3:\n",
    "\n",
    "            x = QDense(nodes3, \n",
    "                       kernel_quantizer = kernelQuantizer, \n",
    "                       kernel_initializer=initializer,\n",
    "                       kernel_regularizer = regularizer,\n",
    "                       use_bias = False,\n",
    "                       name=\"hidden-dense-3\")(x)\n",
    "            x = BatchNormalization(epsilon = eps, momentum  = bn_momentum, name = \"bn-3\")(x)\n",
    "            x = QActivation(activation = activationQuantizer, \n",
    "                            name=\"act_3\")(x)\n",
    "\n",
    "    x = QDense(outnodes,\n",
    "                kernel_quantizer = kernelQuantizer,\n",
    "                kernel_initializer = initializer,\n",
    "                use_bias = True,\n",
    "                name=\"dense-output\")(x)\n",
    "    x = Activation(\"linear\")(x)\n",
    "    \n",
    "    model = Model(inputs=x_in, outputs=x,name=\"quantized-model\")\n",
    "    \n",
    "    adam = Adam(lr=lr, clipnorm=clipnorm)\n",
    "    model.compile(optimizer=adam, \n",
    "                  loss=huber_loss, \n",
    "                  metrics=['acc','mse','mae'])\n",
    "\n",
    "    model.summary()\n",
    "    return model\n",
    "    "
   ]
  },
  {
   "cell_type": "code",
   "execution_count": 24,
   "id": "a4fe95ce",
   "metadata": {
    "scrolled": false
   },
   "outputs": [
    {
     "name": "stderr",
     "output_type": "stream",
     "text": [
      "/Users/gpradhan/miniforge3/envs/mlp/lib/python3.8/site-packages/keras/optimizer_v2/optimizer_v2.py:355: UserWarning: The `lr` argument is deprecated, use `learning_rate` instead.\n",
      "  warnings.warn(\n",
      "[INFO    ] Training model with l1_reg: 0.0 l2_reg: 0.0\n",
      "[INFO    ] Begin training ...\n"
     ]
    },
    {
     "name": "stdout",
     "output_type": "stream",
     "text": [
      "Model: \"quantized-model\"\n",
      "_________________________________________________________________\n",
      "Layer (type)                 Output Shape              Param #   \n",
      "=================================================================\n",
      "input_5 (InputLayer)         [(None, 23)]              0         \n",
      "_________________________________________________________________\n",
      "bn-input (BatchNormalization (None, 23)                92        \n",
      "_________________________________________________________________\n",
      "hidden-dense-1 (QDense)      (None, 10)                230       \n",
      "_________________________________________________________________\n",
      "bn-1 (BatchNormalization)    (None, 10)                40        \n",
      "_________________________________________________________________\n",
      "act_1 (QActivation)          (None, 10)                0         \n",
      "_________________________________________________________________\n",
      "hidden-dense-2 (QDense)      (None, 7)                 70        \n",
      "_________________________________________________________________\n",
      "bn-2 (BatchNormalization)    (None, 7)                 28        \n",
      "_________________________________________________________________\n",
      "act_2 (QActivation)          (None, 7)                 0         \n",
      "_________________________________________________________________\n",
      "hidden-dense-3 (QDense)      (None, 5)                 35        \n",
      "_________________________________________________________________\n",
      "bn-3 (BatchNormalization)    (None, 5)                 20        \n",
      "_________________________________________________________________\n",
      "act_3 (QActivation)          (None, 5)                 0         \n",
      "_________________________________________________________________\n",
      "dense-output (QDense)        (None, 2)                 12        \n",
      "_________________________________________________________________\n",
      "activation_4 (Activation)    (None, 2)                 0         \n",
      "=================================================================\n",
      "Total params: 527\n",
      "Trainable params: 437\n",
      "Non-trainable params: 90\n",
      "_________________________________________________________________\n",
      "Epoch 1/300\n"
     ]
    },
    {
     "name": "stderr",
     "output_type": "stream",
     "text": [
      "2022-01-25 12:50:23.796429: I tensorflow/core/grappler/optimizers/custom_graph_optimizer_registry.cc:112] Plugin optimizer for device_type GPU is enabled.\n"
     ]
    },
    {
     "name": "stdout",
     "output_type": "stream",
     "text": [
      "2025/2025 [==============================] - ETA: 0s - loss: 23.6766 - acc: 0.9083 - mse: 816.6082 - mae: 18.2559"
     ]
    },
    {
     "name": "stderr",
     "output_type": "stream",
     "text": [
      "2022-01-25 12:51:05.452789: I tensorflow/core/grappler/optimizers/custom_graph_optimizer_registry.cc:112] Plugin optimizer for device_type GPU is enabled.\n"
     ]
    },
    {
     "name": "stdout",
     "output_type": "stream",
     "text": [
      "2025/2025 [==============================] - 44s 21ms/step - loss: 23.6766 - acc: 0.9083 - mse: 816.6082 - mae: 18.2559 - val_loss: 14.2461 - val_acc: 0.9285 - val_mse: 283.6509 - val_mae: 11.2382\n",
      "Epoch 2/300\n",
      "2025/2025 [==============================] - 44s 22ms/step - loss: 13.9518 - acc: 0.9314 - mse: 272.2433 - mae: 11.0193 - val_loss: 13.9974 - val_acc: 0.9324 - val_mse: 270.3017 - val_mae: 11.0539\n",
      "Epoch 3/300\n",
      "2025/2025 [==============================] - 43s 21ms/step - loss: 13.7979 - acc: 0.9323 - mse: 267.1061 - mae: 10.9046 - val_loss: 14.0683 - val_acc: 0.9324 - val_mse: 271.5674 - val_mae: 11.1070\n",
      "Epoch 4/300\n",
      "2025/2025 [==============================] - 43s 21ms/step - loss: 13.7458 - acc: 0.9331 - mse: 265.3680 - mae: 10.8657 - val_loss: 13.8403 - val_acc: 0.9306 - val_mse: 265.1716 - val_mae: 10.9365\n",
      "Epoch 5/300\n",
      "2025/2025 [==============================] - 44s 21ms/step - loss: 13.6974 - acc: 0.9335 - mse: 263.9570 - mae: 10.8296 - val_loss: 13.6571 - val_acc: 0.9339 - val_mse: 262.7975 - val_mae: 10.7989\n",
      "Epoch 6/300\n",
      "2025/2025 [==============================] - 45s 22ms/step - loss: 13.6574 - acc: 0.9340 - mse: 262.9846 - mae: 10.7997 - val_loss: 13.5353 - val_acc: 0.9330 - val_mse: 259.9825 - val_mae: 10.7084\n",
      "Epoch 7/300\n",
      "2025/2025 [==============================] - 44s 22ms/step - loss: 13.6318 - acc: 0.9339 - mse: 262.5309 - mae: 10.7805 - val_loss: 13.6514 - val_acc: 0.9359 - val_mse: 260.7384 - val_mae: 10.7952\n",
      "Epoch 8/300\n",
      "2025/2025 [==============================] - 44s 22ms/step - loss: 13.6175 - acc: 0.9342 - mse: 262.1798 - mae: 10.7697 - val_loss: 13.7783 - val_acc: 0.9283 - val_mse: 262.7739 - val_mae: 10.8913\n",
      "Epoch 9/300\n",
      "2025/2025 [==============================] - 43s 21ms/step - loss: 13.5942 - acc: 0.9344 - mse: 261.4824 - mae: 10.7524 - val_loss: 13.4757 - val_acc: 0.9352 - val_mse: 257.9670 - val_mae: 10.6647\n",
      "Epoch 10/300\n",
      "2025/2025 [==============================] - 45s 22ms/step - loss: 13.5581 - acc: 0.9346 - mse: 260.5971 - mae: 10.7254 - val_loss: 13.6535 - val_acc: 0.9320 - val_mse: 262.6234 - val_mae: 10.7962\n",
      "\n",
      "Epoch 00010: saving model to checkpoints/half_baseline_qkeras_model_ckpt_epoch_10.hdf5\n",
      "Epoch 11/300\n",
      "2025/2025 [==============================] - 44s 22ms/step - loss: 13.5478 - acc: 0.9346 - mse: 260.2939 - mae: 10.7178 - val_loss: 13.3984 - val_acc: 0.9355 - val_mse: 256.0671 - val_mae: 10.6056\n",
      "Epoch 12/300\n",
      "2025/2025 [==============================] - 44s 22ms/step - loss: 13.5364 - acc: 0.9347 - mse: 259.9865 - mae: 10.7093 - val_loss: 13.3561 - val_acc: 0.9353 - val_mse: 254.3955 - val_mae: 10.5753\n",
      "Epoch 13/300\n",
      "2025/2025 [==============================] - 44s 22ms/step - loss: 13.5170 - acc: 0.9349 - mse: 259.4202 - mae: 10.6948 - val_loss: 13.4283 - val_acc: 0.9351 - val_mse: 255.4149 - val_mae: 10.6288\n",
      "Epoch 14/300\n",
      "2025/2025 [==============================] - 44s 22ms/step - loss: 13.5146 - acc: 0.9351 - mse: 259.2572 - mae: 10.6929 - val_loss: 13.6018 - val_acc: 0.9326 - val_mse: 258.7130 - val_mae: 10.7585\n",
      "Epoch 15/300\n",
      "2025/2025 [==============================] - 44s 22ms/step - loss: 13.4877 - acc: 0.9351 - mse: 258.7074 - mae: 10.6729 - val_loss: 13.4129 - val_acc: 0.9364 - val_mse: 255.7375 - val_mae: 10.6169\n",
      "Epoch 16/300\n",
      "2025/2025 [==============================] - 45s 22ms/step - loss: 13.4925 - acc: 0.9350 - mse: 258.7266 - mae: 10.6764 - val_loss: 13.3482 - val_acc: 0.9348 - val_mse: 254.8675 - val_mae: 10.5685\n",
      "Epoch 17/300\n",
      "2025/2025 [==============================] - 40s 20ms/step - loss: 13.4753 - acc: 0.9352 - mse: 258.5414 - mae: 10.6636 - val_loss: 13.5209 - val_acc: 0.9363 - val_mse: 256.8222 - val_mae: 10.6987\n",
      "Epoch 18/300\n",
      "2025/2025 [==============================] - 39s 19ms/step - loss: 13.4478 - acc: 0.9354 - mse: 257.8621 - mae: 10.6430 - val_loss: 13.2456 - val_acc: 0.9373 - val_mse: 253.3502 - val_mae: 10.4916\n",
      "Epoch 19/300\n",
      "2025/2025 [==============================] - 39s 19ms/step - loss: 13.4364 - acc: 0.9356 - mse: 257.7170 - mae: 10.6345 - val_loss: 13.2353 - val_acc: 0.9369 - val_mse: 251.9530 - val_mae: 10.4850\n",
      "Epoch 20/300\n",
      "2025/2025 [==============================] - 39s 19ms/step - loss: 13.4393 - acc: 0.9356 - mse: 257.7155 - mae: 10.6366 - val_loss: 13.3773 - val_acc: 0.9325 - val_mse: 258.5782 - val_mae: 10.5896\n",
      "\n",
      "Epoch 00020: saving model to checkpoints/half_baseline_qkeras_model_ckpt_epoch_20.hdf5\n",
      "Epoch 21/300\n",
      "2025/2025 [==============================] - 39s 19ms/step - loss: 13.4240 - acc: 0.9356 - mse: 257.5546 - mae: 10.6251 - val_loss: 13.2601 - val_acc: 0.9355 - val_mse: 253.2936 - val_mae: 10.5032\n",
      "Epoch 22/300\n",
      "2025/2025 [==============================] - 39s 19ms/step - loss: 13.4208 - acc: 0.9357 - mse: 257.3512 - mae: 10.6227 - val_loss: 13.2448 - val_acc: 0.9371 - val_mse: 252.8028 - val_mae: 10.4915\n",
      "Epoch 23/300\n",
      "2025/2025 [==============================] - 39s 19ms/step - loss: 13.4058 - acc: 0.9359 - mse: 257.0970 - mae: 10.6116 - val_loss: 13.3786 - val_acc: 0.9349 - val_mse: 255.2471 - val_mae: 10.5911\n",
      "Epoch 24/300\n",
      "2025/2025 [==============================] - 39s 19ms/step - loss: 13.4142 - acc: 0.9358 - mse: 257.1493 - mae: 10.6178 - val_loss: 13.3334 - val_acc: 0.9336 - val_mse: 255.7456 - val_mae: 10.5579\n",
      "Epoch 25/300\n",
      "2025/2025 [==============================] - 39s 19ms/step - loss: 13.4032 - acc: 0.9359 - mse: 257.0360 - mae: 10.6097 - val_loss: 13.3327 - val_acc: 0.9355 - val_mse: 255.2249 - val_mae: 10.5569\n",
      "Epoch 26/300\n",
      "2025/2025 [==============================] - 39s 19ms/step - loss: 13.4113 - acc: 0.9359 - mse: 257.1083 - mae: 10.6157 - val_loss: 13.3050 - val_acc: 0.9374 - val_mse: 253.6568 - val_mae: 10.5365\n",
      "Epoch 27/300\n",
      "2025/2025 [==============================] - 39s 19ms/step - loss: 13.3995 - acc: 0.9359 - mse: 256.8577 - mae: 10.6068 - val_loss: 13.2011 - val_acc: 0.9375 - val_mse: 252.6837 - val_mae: 10.4587\n",
      "Epoch 28/300\n",
      "2025/2025 [==============================] - 39s 19ms/step - loss: 13.4055 - acc: 0.9358 - mse: 256.9943 - mae: 10.6113 - val_loss: 13.2503 - val_acc: 0.9374 - val_mse: 253.0669 - val_mae: 10.4952\n",
      "Epoch 29/300\n",
      "2025/2025 [==============================] - 39s 19ms/step - loss: 13.3973 - acc: 0.9359 - mse: 256.8382 - mae: 10.6052 - val_loss: 13.2096 - val_acc: 0.9375 - val_mse: 252.2077 - val_mae: 10.4649\n",
      "Epoch 30/300\n",
      "2025/2025 [==============================] - 39s 19ms/step - loss: 13.3967 - acc: 0.9362 - mse: 256.8188 - mae: 10.6047 - val_loss: 13.2370 - val_acc: 0.9368 - val_mse: 253.3299 - val_mae: 10.4855\n",
      "\n",
      "Epoch 00030: saving model to checkpoints/half_baseline_qkeras_model_ckpt_epoch_30.hdf5\n",
      "Epoch 31/300\n",
      "2025/2025 [==============================] - 39s 19ms/step - loss: 13.3853 - acc: 0.9362 - mse: 256.5583 - mae: 10.5962 - val_loss: 13.2419 - val_acc: 0.9353 - val_mse: 252.3628 - val_mae: 10.4901\n",
      "Epoch 32/300\n",
      "2025/2025 [==============================] - 39s 19ms/step - loss: 13.3831 - acc: 0.9362 - mse: 256.5128 - mae: 10.5944 - val_loss: 13.3973 - val_acc: 0.9330 - val_mse: 255.6994 - val_mae: 10.6052\n",
      "Epoch 33/300\n",
      "2025/2025 [==============================] - 39s 19ms/step - loss: 13.3827 - acc: 0.9361 - mse: 256.5240 - mae: 10.5943 - val_loss: 13.2670 - val_acc: 0.9356 - val_mse: 253.3558 - val_mae: 10.5082\n",
      "Epoch 34/300\n",
      "2025/2025 [==============================] - 39s 19ms/step - loss: 13.3814 - acc: 0.9362 - mse: 256.4110 - mae: 10.5934 - val_loss: 13.1945 - val_acc: 0.9374 - val_mse: 252.0028 - val_mae: 10.4532\n",
      "Epoch 35/300\n",
      "2025/2025 [==============================] - 39s 19ms/step - loss: 13.3833 - acc: 0.9362 - mse: 256.5063 - mae: 10.5947 - val_loss: 13.2996 - val_acc: 0.9366 - val_mse: 255.3738 - val_mae: 10.5317\n",
      "Epoch 36/300\n",
      "2025/2025 [==============================] - 39s 19ms/step - loss: 13.3769 - acc: 0.9364 - mse: 256.3344 - mae: 10.5900 - val_loss: 13.2835 - val_acc: 0.9370 - val_mse: 253.4238 - val_mae: 10.5201\n",
      "Epoch 37/300\n",
      "2025/2025 [==============================] - 39s 19ms/step - loss: 13.3769 - acc: 0.9363 - mse: 256.2906 - mae: 10.5899 - val_loss: 13.2774 - val_acc: 0.9359 - val_mse: 253.9222 - val_mae: 10.5159\n",
      "Epoch 38/300\n",
      "2025/2025 [==============================] - 39s 19ms/step - loss: 13.3716 - acc: 0.9365 - mse: 256.1429 - mae: 10.5860 - val_loss: 13.3391 - val_acc: 0.9327 - val_mse: 252.4105 - val_mae: 10.5635\n"
     ]
    },
    {
     "name": "stdout",
     "output_type": "stream",
     "text": [
      "Epoch 39/300\n",
      "2025/2025 [==============================] - 39s 19ms/step - loss: 13.3651 - acc: 0.9363 - mse: 256.0726 - mae: 10.5811 - val_loss: 13.3143 - val_acc: 0.9377 - val_mse: 254.3619 - val_mae: 10.5439\n",
      "Epoch 40/300\n",
      "2025/2025 [==============================] - 39s 19ms/step - loss: 13.3724 - acc: 0.9363 - mse: 256.1028 - mae: 10.5866 - val_loss: 13.2511 - val_acc: 0.9342 - val_mse: 252.9682 - val_mae: 10.4968\n",
      "\n",
      "Epoch 00040: saving model to checkpoints/half_baseline_qkeras_model_ckpt_epoch_40.hdf5\n",
      "Epoch 41/300\n",
      "2025/2025 [==============================] - 39s 19ms/step - loss: 13.3620 - acc: 0.9365 - mse: 255.7989 - mae: 10.5789 - val_loss: 13.1993 - val_acc: 0.9374 - val_mse: 252.1240 - val_mae: 10.4574\n",
      "Epoch 42/300\n",
      "2025/2025 [==============================] - 39s 19ms/step - loss: 13.3610 - acc: 0.9364 - mse: 255.8390 - mae: 10.5780 - val_loss: 13.1918 - val_acc: 0.9374 - val_mse: 251.9076 - val_mae: 10.4513\n",
      "Epoch 43/300\n",
      "2025/2025 [==============================] - 39s 19ms/step - loss: 13.3629 - acc: 0.9364 - mse: 255.8333 - mae: 10.5795 - val_loss: 13.1974 - val_acc: 0.9371 - val_mse: 252.6346 - val_mae: 10.4552\n",
      "Epoch 44/300\n",
      "2025/2025 [==============================] - 39s 19ms/step - loss: 13.3568 - acc: 0.9365 - mse: 255.7163 - mae: 10.5749 - val_loss: 13.2142 - val_acc: 0.9377 - val_mse: 251.5854 - val_mae: 10.4692\n",
      "Epoch 45/300\n",
      "2025/2025 [==============================] - 39s 19ms/step - loss: 13.3537 - acc: 0.9363 - mse: 255.6721 - mae: 10.5726 - val_loss: 13.2562 - val_acc: 0.9363 - val_mse: 251.8111 - val_mae: 10.5014\n",
      "Epoch 46/300\n",
      "2025/2025 [==============================] - 39s 19ms/step - loss: 13.3469 - acc: 0.9364 - mse: 255.5784 - mae: 10.5674 - val_loss: 13.3726 - val_acc: 0.9359 - val_mse: 254.4583 - val_mae: 10.5869\n",
      "Epoch 47/300\n",
      "2025/2025 [==============================] - 41s 20ms/step - loss: 13.3579 - acc: 0.9364 - mse: 255.7569 - mae: 10.5757 - val_loss: 13.1909 - val_acc: 0.9368 - val_mse: 252.2577 - val_mae: 10.4512\n",
      "Epoch 48/300\n",
      "2025/2025 [==============================] - 43s 21ms/step - loss: 13.3516 - acc: 0.9364 - mse: 255.5782 - mae: 10.5710 - val_loss: 13.2713 - val_acc: 0.9381 - val_mse: 253.5519 - val_mae: 10.5110\n",
      "Epoch 49/300\n",
      "2025/2025 [==============================] - 49s 24ms/step - loss: 13.3585 - acc: 0.9363 - mse: 255.6454 - mae: 10.5762 - val_loss: 13.2058 - val_acc: 0.9368 - val_mse: 251.4603 - val_mae: 10.4628\n",
      "Epoch 50/300\n",
      "2025/2025 [==============================] - 43s 21ms/step - loss: 13.3527 - acc: 0.9365 - mse: 255.6497 - mae: 10.5718 - val_loss: 13.2643 - val_acc: 0.9376 - val_mse: 251.9109 - val_mae: 10.5071\n",
      "\n",
      "Epoch 00050: saving model to checkpoints/half_baseline_qkeras_model_ckpt_epoch_50.hdf5\n",
      "Epoch 51/300\n",
      "2025/2025 [==============================] - 42s 21ms/step - loss: 13.3476 - acc: 0.9366 - mse: 255.5499 - mae: 10.5681 - val_loss: 13.2009 - val_acc: 0.9379 - val_mse: 253.1520 - val_mae: 10.4582\n",
      "Epoch 52/300\n",
      "2025/2025 [==============================] - 43s 21ms/step - loss: 13.3456 - acc: 0.9365 - mse: 255.5218 - mae: 10.5665 - val_loss: 13.2173 - val_acc: 0.9374 - val_mse: 252.8349 - val_mae: 10.4703\n",
      "Epoch 53/300\n",
      "2025/2025 [==============================] - 42s 21ms/step - loss: 13.3403 - acc: 0.9365 - mse: 255.3479 - mae: 10.5627 - val_loss: 13.1763 - val_acc: 0.9380 - val_mse: 251.8036 - val_mae: 10.4396\n",
      "Epoch 54/300\n",
      "2025/2025 [==============================] - 45s 22ms/step - loss: 13.3486 - acc: 0.9364 - mse: 255.5065 - mae: 10.5689 - val_loss: 13.1860 - val_acc: 0.9375 - val_mse: 251.4669 - val_mae: 10.4479\n",
      "Epoch 55/300\n",
      "2025/2025 [==============================] - 51s 25ms/step - loss: 13.3392 - acc: 0.9364 - mse: 255.3349 - mae: 10.5618 - val_loss: 13.3597 - val_acc: 0.9369 - val_mse: 254.2806 - val_mae: 10.5775\n",
      "Epoch 56/300\n",
      "2025/2025 [==============================] - 42s 21ms/step - loss: 13.3346 - acc: 0.9366 - mse: 255.1746 - mae: 10.5584 - val_loss: 13.1681 - val_acc: 0.9380 - val_mse: 251.2939 - val_mae: 10.4335\n",
      "Epoch 57/300\n",
      "2025/2025 [==============================] - 42s 21ms/step - loss: 13.3355 - acc: 0.9365 - mse: 255.2476 - mae: 10.5589 - val_loss: 13.1664 - val_acc: 0.9377 - val_mse: 251.9191 - val_mae: 10.4326\n",
      "Epoch 58/300\n",
      "2025/2025 [==============================] - 41s 20ms/step - loss: 13.3482 - acc: 0.9364 - mse: 255.5734 - mae: 10.5685 - val_loss: 13.1968 - val_acc: 0.9368 - val_mse: 252.4019 - val_mae: 10.4556\n",
      "Epoch 59/300\n",
      "2025/2025 [==============================] - 41s 20ms/step - loss: 13.3361 - acc: 0.9365 - mse: 255.4091 - mae: 10.5594 - val_loss: 13.3381 - val_acc: 0.9372 - val_mse: 254.4873 - val_mae: 10.5612\n",
      "Epoch 60/300\n",
      "2025/2025 [==============================] - 39s 19ms/step - loss: 13.3399 - acc: 0.9367 - mse: 255.3708 - mae: 10.5622 - val_loss: 13.1604 - val_acc: 0.9375 - val_mse: 251.8201 - val_mae: 10.4277\n",
      "\n",
      "Epoch 00060: saving model to checkpoints/half_baseline_qkeras_model_ckpt_epoch_60.hdf5\n",
      "Epoch 61/300\n",
      "2025/2025 [==============================] - 39s 19ms/step - loss: 13.3298 - acc: 0.9366 - mse: 255.1671 - mae: 10.5547 - val_loss: 13.1296 - val_acc: 0.9379 - val_mse: 250.6099 - val_mae: 10.4053\n",
      "Epoch 62/300\n",
      "2025/2025 [==============================] - 38s 19ms/step - loss: 13.3332 - acc: 0.9365 - mse: 255.3002 - mae: 10.5572 - val_loss: 13.1442 - val_acc: 0.9375 - val_mse: 250.6502 - val_mae: 10.4161\n",
      "Epoch 63/300\n",
      "2025/2025 [==============================] - 39s 19ms/step - loss: 13.3265 - acc: 0.9367 - mse: 255.0670 - mae: 10.5522 - val_loss: 13.2112 - val_acc: 0.9380 - val_mse: 251.9204 - val_mae: 10.4666\n",
      "Epoch 64/300\n",
      "2025/2025 [==============================] - 38s 19ms/step - loss: 13.3379 - acc: 0.9366 - mse: 255.3000 - mae: 10.5608 - val_loss: 13.1492 - val_acc: 0.9372 - val_mse: 250.7062 - val_mae: 10.4198\n",
      "Epoch 65/300\n",
      "2025/2025 [==============================] - 39s 19ms/step - loss: 13.3289 - acc: 0.9367 - mse: 255.0953 - mae: 10.5539 - val_loss: 13.1633 - val_acc: 0.9376 - val_mse: 251.1738 - val_mae: 10.4299\n",
      "Epoch 66/300\n",
      "2025/2025 [==============================] - 38s 19ms/step - loss: 13.3267 - acc: 0.9367 - mse: 255.1637 - mae: 10.5523 - val_loss: 13.1989 - val_acc: 0.9383 - val_mse: 251.7573 - val_mae: 10.4574\n",
      "Epoch 67/300\n",
      "2025/2025 [==============================] - 38s 19ms/step - loss: 13.3314 - acc: 0.9365 - mse: 255.1570 - mae: 10.5559 - val_loss: 13.2031 - val_acc: 0.9365 - val_mse: 251.8138 - val_mae: 10.4608\n",
      "Epoch 68/300\n",
      "2025/2025 [==============================] - 38s 19ms/step - loss: 13.3327 - acc: 0.9366 - mse: 255.3048 - mae: 10.5568 - val_loss: 13.3056 - val_acc: 0.9356 - val_mse: 254.7625 - val_mae: 10.5362\n",
      "Epoch 69/300\n",
      "2025/2025 [==============================] - 39s 19ms/step - loss: 13.3272 - acc: 0.9366 - mse: 255.1311 - mae: 10.5528 - val_loss: 13.2051 - val_acc: 0.9364 - val_mse: 251.6789 - val_mae: 10.4612\n",
      "Epoch 70/300\n",
      "2025/2025 [==============================] - 38s 19ms/step - loss: 13.3295 - acc: 0.9365 - mse: 255.2617 - mae: 10.5544 - val_loss: 13.1374 - val_acc: 0.9378 - val_mse: 251.1247 - val_mae: 10.4107\n",
      "\n",
      "Epoch 00070: saving model to checkpoints/half_baseline_qkeras_model_ckpt_epoch_70.hdf5\n",
      "Epoch 71/300\n",
      "2025/2025 [==============================] - 38s 19ms/step - loss: 13.3252 - acc: 0.9367 - mse: 255.0970 - mae: 10.5512 - val_loss: 13.1804 - val_acc: 0.9379 - val_mse: 250.9905 - val_mae: 10.4438\n"
     ]
    },
    {
     "name": "stderr",
     "output_type": "stream",
     "text": [
      "[INFO    ] Done training. Time elapsed: 0:48:16.791156 sec\n",
      "[INFO    ] Epoch 71/71 - loss: 13.325237274169922 - val_loss: 13.180363655090332\n"
     ]
    }
   ],
   "source": [
    "bits = 8\n",
    "ints = 4\n",
    "normal_epochs = 300\n",
    "normal_batch_size = 1000\n",
    "l1_reg = 0.0\n",
    "l2_reg = 0.0\n",
    "learning_rate = 0.01\n",
    "gradient_clip_norm = 100.\n",
    "initializer = \"he_uniform\"\n",
    "\n",
    "# callbacks\n",
    "lr_decay = LearningRateScheduler(lr_schedule)\n",
    "terminate_on_nan = TerminateOnNaN()\n",
    "model_training_checkpoint = ModelCheckpoint(monitor=\"val_loss\", \n",
    "                                           verbose = 1,\n",
    "                                           filepath = \"checkpoints/half_baseline_qkeras_model_ckpt_epoch_{epoch:02d}.hdf5\",\n",
    "                                           period = 10)\n",
    "early_stopping = EarlyStopping(monitor = \"val_loss\", \n",
    "                                               min_delta= 1e-5, \n",
    "                                               mode = \"auto\", \n",
    "                                               patience = 10)\n",
    "\n",
    "qmodel = create_model_quantized_randomized(\n",
    "                                            bits = bits,\n",
    "                                            int_bits = ints,\n",
    "                                            nvariables = NVARIABLES, \n",
    "                                            lr = learning_rate, \n",
    "                                            clipnorm = gradient_clip_norm, \n",
    "                                            nodes1=10, \n",
    "                                            nodes2=7, \n",
    "                                            nodes3=5, \n",
    "                                            outnodes=2,\n",
    "                                            initializer = initializer,\n",
    "                                            l1_reg = l1_reg, \n",
    "                                            l2_reg = l2_reg,\n",
    "                                            quantization_type= \"H\",\n",
    "                                           )\n",
    "\n",
    "logger.info('Training model with l1_reg: {0} l2_reg: {1}'.format(l1_reg, l2_reg))\n",
    "\n",
    "qmodel, history = train_model(qmodel, \n",
    "                      x_train_displ, \n",
    "                      np.column_stack((y_train_displ, dxy_train_displ)),\n",
    "                      save_model=False, \n",
    "                      epochs=normal_epochs, \n",
    "                      batch_size=normal_batch_size,\n",
    "                      callbacks=[lr_decay,\n",
    "                                 terminate_on_nan,\n",
    "                                 early_stopping,\n",
    "                                 model_training_checkpoint],\n",
    "                      validation_split=0.1, \n",
    "                      verbose=True)\n",
    "\n",
    "metrics = [len(history.history['loss']), history.history['loss'][-1], history.history['val_loss'][-1]]\n",
    "logger.info('Epoch {0}/{0} - loss: {1} - val_loss: {2}'.format(*metrics))"
   ]
  },
  {
   "cell_type": "code",
   "execution_count": 25,
   "id": "37d38a42",
   "metadata": {},
   "outputs": [
    {
     "name": "stdout",
     "output_type": "stream",
     "text": [
      "MAE as obtained on test dataset:\n"
     ]
    },
    {
     "name": "stderr",
     "output_type": "stream",
     "text": [
      "2022-01-25 13:38:40.511152: I tensorflow/core/grappler/optimizers/custom_graph_optimizer_registry.cc:112] Plugin optimizer for device_type GPU is enabled.\n"
     ]
    },
    {
     "name": "stdout",
     "output_type": "stream",
     "text": [
      "Mean MAE for 1-Fold cv for momentum = 11.898110461150754\n",
      "Mean MAE for 1-Fold cv for displacement = 15.077595419973372\n",
      "RMSE as obtained on test dataset:\n",
      "Mean RMSE for 1-Fold cv for momentum = 53.076260369729205\n",
      "Mean RMSE for 1-Fold cv for displacement = 20.96973398173652\n"
     ]
    },
    {
     "name": "stderr",
     "output_type": "stream",
     "text": [
      "[INFO    ] # of entries: 1034656, mean: -0.009821201972725511, std: 0.19710201715910622\n",
      "[INFO    ] gaus fit (a, mu, sig): [ 4.04989102e+04 -3.42760722e-02  3.72050567e-01]\n"
     ]
    },
    {
     "data": {
      "image/png": "[encoded data removed]",
      "text/plain": [
       "<Figure size 375x375 with 1 Axes>"
      ]
     },
     "metadata": {
      "needs_background": "light"
     },
     "output_type": "display_data"
    },
    {
     "name": "stderr",
     "output_type": "stream",
     "text": [
      "[INFO    ] # of entries: 150277, mean: 0.6733098249446812, std: 18.077474674094457\n",
      "[INFO    ] gaus fit (a, mu, sig): [7.07438028e+03 1.10755367e+00 6.56046901e+00]\n"
     ]
    },
    {
     "data": {
      "image/png": "[encoded data removed]",
      "text/plain": [
       "<Figure size 375x375 with 1 Axes>"
      ]
     },
     "metadata": {
      "needs_background": "light"
     },
     "output_type": "display_data"
    }
   ],
   "source": [
    "print(\"MAE as obtained on test dataset:\")\n",
    "k_fold_validation(model = qmodel, \n",
    "                  x = x_test_displ,  \n",
    "                  y = y_test_displ, \n",
    "                  dxy = dxy_test_displ, \n",
    "                  folds = 1,\n",
    "                  metric_type=\"MAE\")\n",
    "\n",
    "print(\"RMSE as obtained on test dataset:\")\n",
    "k_fold_validation(model = qmodel, \n",
    "                  x = x_test_displ,  \n",
    "                  y = y_test_displ, \n",
    "                  dxy = dxy_test_displ, \n",
    "                  folds = 1,\n",
    "                  metric_type = \"RMSE\")\n",
    "\n",
    "# Evaluate the quantized resolution\n",
    "__generate_delta_plots__(model = qmodel,\n",
    "                        x = x_test_displ,\n",
    "                        y = y_test_displ,\n",
    "                        dxy = dxy_test_displ,\n",
    "                        color = \"royalblue\"\n",
    "                        )"
   ]
  },
  {
   "cell_type": "code",
   "execution_count": 26,
   "id": "481bfabd",
   "metadata": {},
   "outputs": [
    {
     "name": "stderr",
     "output_type": "stream",
     "text": [
      "[INFO    ] Loading muon data from ./data/NN_input_params_FlatXYZ.npz ...\n",
      "[INFO    ] Loaded the variables with shape (19300000, 25)\n",
      "[INFO    ] Loaded the parameters with shape (19300000, 6)\n",
      "[INFO    ] Loaded the encoded variables with shape (3284620, 23)\n",
      "[INFO    ] Loaded the encoded parameters with shape (3284620,)\n"
     ]
    },
    {
     "name": "stdout",
     "output_type": "stream",
     "text": [
      "MAE as obtained on test dataset:\n",
      "Mean MAE for 1-Fold cv for momentum = 11.853701374703526\n",
      "Mean MAE for 1-Fold cv for displacement = 15.080823597133405\n",
      "RMSE as obtained on test dataset:\n",
      "Mean RMSE for 1-Fold cv for momentum = 52.735201061524315\n",
      "Mean RMSE for 1-Fold cv for displacement = 20.972331972817113\n"
     ]
    },
    {
     "name": "stderr",
     "output_type": "stream",
     "text": [
      "[INFO    ] # of entries: 3284620, mean: -0.009986643383910202, std: 0.19710398089442827\n",
      "[INFO    ] gaus fit (a, mu, sig): [ 1.28517403e+05 -3.46619237e-02  3.72303730e-01]\n"
     ]
    },
    {
     "data": {
      "image/png": "[encoded data removed]",
      "text/plain": [
       "<Figure size 375x375 with 1 Axes>"
      ]
     },
     "metadata": {
      "needs_background": "light"
     },
     "output_type": "display_data"
    },
    {
     "name": "stderr",
     "output_type": "stream",
     "text": [
      "[INFO    ] # of entries: 477217, mean: 0.608287727727623, std: 18.10723787708365\n",
      "[INFO    ] gaus fit (a, mu, sig): [2.24288433e+04 1.09788946e+00 6.57199147e+00]\n"
     ]
    },
    {
     "data": {
      "image/png": "[encoded data removed]",
      "text/plain": [
       "<Figure size 375x375 with 1 Axes>"
      ]
     },
     "metadata": {
      "needs_background": "light"
     },
     "output_type": "display_data"
    }
   ],
   "source": [
    "x, y, dxy = muon_data_split(filename=DATAFILEPATH, \n",
    "                           reg_pt_scale=REG_PT_SCALE, \n",
    "                           reg_dxy_scale=REG_DXY_SCALE, \n",
    "                           test_size=0,\n",
    "                           nvariables = NVARIABLES,\n",
    "                           nentries= NENTRIES,\n",
    "                           batch_size = 1)\n",
    "\n",
    "print(\"MAE as obtained on test dataset:\")\n",
    "k_fold_validation(model = qmodel, \n",
    "                  x = x,  \n",
    "                  y = y, \n",
    "                  dxy = dxy, \n",
    "                  folds = 1,\n",
    "                  metric_type=\"MAE\")\n",
    "\n",
    "print(\"RMSE as obtained on test dataset:\")\n",
    "k_fold_validation(model = qmodel, \n",
    "                  x = x,  \n",
    "                  y = y, \n",
    "                  dxy = dxy, \n",
    "                  folds = 1,\n",
    "                  metric_type = \"RMSE\")\n",
    "\n",
    "# Evaluate the quantized resolution\n",
    "__generate_delta_plots__(model = qmodel,\n",
    "                        x = x,\n",
    "                        y = y,\n",
    "                        dxy = dxy,\n",
    "                        color = \"plum\"\n",
    "                        )"
   ]
  },
  {
   "cell_type": "code",
   "execution_count": 27,
   "id": "a9cb32b3",
   "metadata": {},
   "outputs": [
    {
     "name": "stdout",
     "output_type": "stream",
     "text": [
      "... quantizing model\n",
      "  bn-input has not been quantized\n",
      "  bn-1 has not been quantized\n",
      "  bn-2 has not been quantized\n",
      "  bn-3 has not been quantized\n"
     ]
    }
   ],
   "source": [
    "from nn_quantization_module_support import save_qmodel\n",
    "save_qmodel( model_for_export = qmodel ,\n",
    "            bits = 8 ,\n",
    "            int_bits = 4,\n",
    "            sparsity = 0 ,\n",
    "            l1_reg_val = 0.0 ,\n",
    "            l2_reg_val = 0.0 ,\n",
    "            epochs = normal_epochs,\n",
    "            batch_size = normal_batch_size,\n",
    "            quantization_type = \"H\" ,\n",
    "            additional_prefix = \"HALF\" )"
   ]
  },
  {
   "cell_type": "code",
   "execution_count": null,
   "id": "70df0e24",
   "metadata": {},
   "outputs": [],
   "source": []
  }
 ],
 "metadata": {
  "kernelspec": {
   "display_name": "Python 3 (ipykernel)",
   "language": "python",
   "name": "python3"
  },
  "language_info": {
   "codemirror_mode": {
    "name": "ipython",
    "version": 3
   },
   "file_extension": ".py",
   "mimetype": "text/x-python",
   "name": "python",
   "nbconvert_exporter": "python",
   "pygments_lexer": "ipython3",
   "version": "3.8.12"
  }
 },
 "nbformat": 4,
 "nbformat_minor": 5
}
