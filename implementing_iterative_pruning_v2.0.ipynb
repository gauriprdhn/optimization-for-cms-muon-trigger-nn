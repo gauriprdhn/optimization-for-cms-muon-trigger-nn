{
 "cells": [
  {
   "cell_type": "markdown",
   "id": "2875097b",
   "metadata": {
    "id": "2875097b"
   },
   "source": [
    "### Part - I: Importing Required Modules/ Packages"
   ]
  },
  {
   "cell_type": "code",
   "execution_count": 1,
   "id": "4751381c",
   "metadata": {
    "id": "4751381c"
   },
   "outputs": [
    {
     "name": "stdout",
     "output_type": "stream",
     "text": [
      "2.6.0\n",
      "2.6.0\n",
      "1.3.4\n",
      "1.19.5\n"
     ]
    }
   ],
   "source": [
    "import numpy as np\n",
    "import pandas as pd\n",
    "import matplotlib.pyplot as plt\n",
    "from sklearn.model_selection import train_test_split\n",
    "import os\n",
    "import tensorflow as tf \n",
    "import keras\n",
    "print(tf.__version__)\n",
    "print(keras.__version__)\n",
    "print(pd.__version__)\n",
    "print(np.__version__)"
   ]
  },
  {
   "cell_type": "code",
   "execution_count": 2,
   "id": "e5c610e2",
   "metadata": {
    "id": "e5c610e2"
   },
   "outputs": [],
   "source": [
    "# custom declarations \n",
    "from nn_globals import *\n",
    "from dataset import muon_data_split"
   ]
  },
  {
   "cell_type": "markdown",
   "id": "d1b8b6c7",
   "metadata": {
    "id": "d1b8b6c7"
   },
   "source": [
    "### Part- II: Data Preprocessing"
   ]
  },
  {
   "cell_type": "code",
   "execution_count": 4,
   "id": "wo6ZNYZKRjK0",
   "metadata": {
    "id": "wo6ZNYZKRjK0"
   },
   "outputs": [
    {
     "name": "stderr",
     "output_type": "stream",
     "text": [
      "[INFO    ] Loading muon data from ./data/NN_input_params_FlatXYZ.npz ...\n",
      "[INFO    ] Loaded the variables with shape (19300000, 25)\n",
      "[INFO    ] Loaded the parameters with shape (19300000, 6)\n",
      "[INFO    ] Loaded the encoded variables with shape (3284620, 23)\n",
      "[INFO    ] Loaded the encoded parameters with shape (3284620,)\n",
      "[INFO    ] Loaded # of training and testing events: (2249964, 1034656)\n",
      "[WARNING ] The last batch for training could be too few! (2024967%128)=7. Please change test_size.\n",
      "[WARNING ] Try this formula: int(int(3284620*0.685)*0.9) % 128\n",
      "[WARNING ] The last batch for training after mixing could be too few! (4049935%128)=15. Please change test_size.\n",
      "[WARNING ] Try this formula: int(int(3284620*0.685)*2*0.9) % 128\n"
     ]
    }
   ],
   "source": [
    "x_train_displ, x_test_displ, y_train_displ, y_test_displ, dxy_train_displ, dxy_test_displ =  muon_data_split(filename = DATAFILEPATH, \n",
    "                                                                                                                reg_pt_scale=REG_PT_SCALE, \n",
    "                                                                                                                reg_dxy_scale=REG_DXY_SCALE, \n",
    "                                                                                                                test_size=TEST_SIZE,\n",
    "                                                                                                                nvariables = NVARIABLES,\n",
    "                                                                                                                nentries = NENTRIES)"
   ]
  },
  {
   "cell_type": "markdown",
   "id": "20bc7c79",
   "metadata": {
    "id": "20bc7c79"
   },
   "source": [
    "### Part-III: Use the cells in this section for data exploration"
   ]
  },
  {
   "cell_type": "code",
   "execution_count": null,
   "id": "754959ad",
   "metadata": {
    "id": "754959ad"
   },
   "outputs": [],
   "source": [
    "# cols = [\"dphi_1\",\"dphi_2\",\"dphi_3\",\"dphi_4\",\"dphi_5\",\"dphi_6\",\n",
    "#        \"dtheta_1\",\"dtheta_2\",\"dtheta_3\",\"dtheta_4\",\"dtheta_5\", \"dtheta_6\",\n",
    "#        \"bend_1\",\"bend_2\",\"bend_3\",\"bend_4\",\n",
    "#        \"track theta\"]\n",
    "\n",
    "# x = np.concatenate((x_train_displ,x_test_displ),axis=0)\n",
    "# y = np.concatenate((y_train_displ,y_test_displ),axis=0)\n",
    "# dxy = np.concatenate((dxy_train_displ,dxy_test_displ),axis=0)\n",
    "\n",
    "# corr_plot(x,y,dxy,columns = cols)"
   ]
  },
  {
   "cell_type": "markdown",
   "id": "ubbR2loeCbxL",
   "metadata": {
    "id": "ubbR2loeCbxL"
   },
   "source": [
    "### Part- III: Load and Account the Perf for the Baseline"
   ]
  },
  {
   "cell_type": "code",
   "execution_count": 5,
   "id": "2zQOMD9hEoAV",
   "metadata": {
    "id": "2zQOMD9hEoAV"
   },
   "outputs": [],
   "source": [
    "from tensorflow.keras.optimizers import Adam\n",
    "from tensorflow.keras.callbacks import LearningRateScheduler, TerminateOnNaN, EarlyStopping\n",
    "\n",
    "# project-specific imports\n",
    "from nn_evaluate import huber_loss, k_fold_validation\n",
    "from nn_training import lr_schedule\n",
    "from nn_pruning_module_support import loading_trained_model\n",
    "from nn_training import train_model\n",
    "from nn_training_pruned_model import (generate_layer_masks, \n",
    "                                      create_sparse_model)\n",
    "from nn_plotting import __generate_delta_plots__"
   ]
  },
  {
   "cell_type": "code",
   "execution_count": 7,
   "id": "56b1ba56",
   "metadata": {
    "id": "56b1ba56"
   },
   "outputs": [
    {
     "name": "stdout",
     "output_type": "stream",
     "text": [
      "./models//model.json\n",
      "./models//model_weights.h5\n",
      "Metal device set to: Apple M1\n",
      "Loaded model from disk\n",
      "Model: \"sequential\"\n",
      "_________________________________________________________________\n",
      "Layer (type)                 Output Shape              Param #   \n",
      "=================================================================\n",
      "batch_normalization (BatchNo (None, 23)                92        \n",
      "_________________________________________________________________\n",
      "dense (Dense)                (None, 20)                460       \n",
      "_________________________________________________________________\n",
      "batch_normalization_1 (Batch (None, 20)                80        \n",
      "_________________________________________________________________\n",
      "activation (Activation)      (None, 20)                0         \n",
      "_________________________________________________________________\n",
      "dense_1 (Dense)              (None, 15)                300       \n",
      "_________________________________________________________________\n",
      "batch_normalization_2 (Batch (None, 15)                60        \n",
      "_________________________________________________________________\n",
      "activation_1 (Activation)    (None, 15)                0         \n",
      "_________________________________________________________________\n",
      "dense_2 (Dense)              (None, 10)                150       \n",
      "_________________________________________________________________\n",
      "batch_normalization_3 (Batch (None, 10)                40        \n",
      "_________________________________________________________________\n",
      "activation_2 (Activation)    (None, 10)                0         \n",
      "_________________________________________________________________\n",
      "dense_3 (Dense)              (None, 2)                 22        \n",
      "=================================================================\n",
      "Total params: 1,204\n",
      "Trainable params: 1,068\n",
      "Non-trainable params: 136\n",
      "_________________________________________________________________\n"
     ]
    },
    {
     "name": "stderr",
     "output_type": "stream",
     "text": [
      "2022-01-11 11:15:13.748331: I tensorflow/core/common_runtime/pluggable_device/pluggable_device_factory.cc:305] Could not identify NUMA node of platform GPU ID 0, defaulting to 0. Your kernel may not have been built with NUMA support.\n",
      "2022-01-11 11:15:13.748460: I tensorflow/core/common_runtime/pluggable_device/pluggable_device_factory.cc:271] Created TensorFlow device (/job:localhost/replica:0/task:0/device:GPU:0 with 0 MB memory) -> physical PluggableDevice (device: 0, name: METAL, pci bus id: <undefined>)\n"
     ]
    }
   ],
   "source": [
    "baseline = loading_trained_model(filepath = \"./models/\",\n",
    "                                 model_filename = \"model\")\n",
    "baseline.summary()"
   ]
  },
  {
   "cell_type": "code",
   "execution_count": 8,
   "id": "nzWEKXR1Ctry",
   "metadata": {
    "id": "nzWEKXR1Ctry"
   },
   "outputs": [
    {
     "name": "stderr",
     "output_type": "stream",
     "text": [
      "2022-01-11 11:15:16.538293: I tensorflow/compiler/mlir/mlir_graph_optimization_pass.cc:185] None of the MLIR Optimization Passes are enabled (registered 2)\n",
      "2022-01-11 11:15:16.538804: W tensorflow/core/platform/profile_utils/cpu_utils.cc:128] Failed to get CPU frequency: 0 Hz\n",
      "2022-01-11 11:15:16.589100: I tensorflow/core/grappler/optimizers/custom_graph_optimizer_registry.cc:112] Plugin optimizer for device_type GPU is enabled.\n"
     ]
    },
    {
     "name": "stdout",
     "output_type": "stream",
     "text": [
      "Mean MAE for 1-Fold cv for momentum = 10.805401013892237\n",
      "Mean MAE for 1-Fold cv for displacement = 11.09470082119601\n",
      "Mean RMSE for 1-Fold cv for momentum = 51.61877535408888\n",
      "Mean RMSE for 1-Fold cv for displacement = 15.895834550414392\n"
     ]
    },
    {
     "name": "stderr",
     "output_type": "stream",
     "text": [
      "[INFO    ] # of entries: 1034656, mean: 0.0450265648079865, std: 0.18056006751758544\n",
      "[INFO    ] gaus fit (a, mu, sig): [5.93053392e+04 2.59689338e-03 2.27387447e-01]\n"
     ]
    },
    {
     "data": {
      "image/png": "[encoded data removed]",
      "text/plain": [
       "<Figure size 375x375 with 1 Axes>"
      ]
     },
     "metadata": {
      "needs_background": "light"
     },
     "output_type": "display_data"
    },
    {
     "name": "stderr",
     "output_type": "stream",
     "text": [
      "[INFO    ] # of entries: 150253, mean: 0.05408358332716961, std: 10.000876111176593\n",
      "[INFO    ] gaus fit (a, mu, sig): [ 1.01955829e+04 -1.97576655e-02  5.25735096e+00]\n"
     ]
    },
    {
     "data": {
      "image/png": "[encoded data removed]",
      "text/plain": [
       "<Figure size 375x375 with 1 Axes>"
      ]
     },
     "metadata": {
      "needs_background": "light"
     },
     "output_type": "display_data"
    }
   ],
   "source": [
    "# Quantitative Evaluation\n",
    "k_fold_validation(model = baseline, \n",
    "          x = x_test_displ, \n",
    "          y = y_test_displ, \n",
    "          dxy = dxy_test_displ, \n",
    "          folds =1,\n",
    "          metric_type = \"MAE\")    \n",
    "k_fold_validation(model = baseline, \n",
    "          x = x_test_displ, \n",
    "          y = y_test_displ, \n",
    "          dxy = dxy_test_displ, \n",
    "          folds =1,\n",
    "          metric_type = \"RMSE\")   \n",
    "\n",
    "# Qualitative Evaluation:\n",
    "__generate_delta_plots__(model = baseline,\n",
    "                          x = x_test_displ,\n",
    "                          y = y_test_displ,\n",
    "                          dxy = dxy_test_displ,\n",
    "                          color = \"red\",\n",
    "                         alpha = 0.5)"
   ]
  },
  {
   "cell_type": "markdown",
   "id": "wwhNvFOpEe1m",
   "metadata": {
    "id": "wwhNvFOpEe1m"
   },
   "source": [
    "### Part-IV: Build the custom model"
   ]
  },
  {
   "cell_type": "code",
   "execution_count": null,
   "id": "630161ab",
   "metadata": {
    "id": "630161ab"
   },
   "outputs": [],
   "source": [
    "# def run_iterative_pruning(baseline_model = None,\n",
    "#                           target_sparsity: float = 0.1, \n",
    "#                           pruning_fraction_step:float = 0.1,\n",
    "#                           training_params: list = []):\n",
    "    \n",
    "#     if target_sparsity > 1.0 or target_sparsity <= 0:\n",
    "#         print(\"INVALID value entered for target sparsity, it can only be in the range [0,1]\")\n",
    "#     if pruning_fraction_step > target_sparsity:\n",
    "#         print(\"INVALID value entered for pruning fraction, it has to be <= target_sparsity\")\n",
    "    \n",
    "#     # list of models, new pruned models get appended to it while training\n",
    "#     pruned_models, training_history = [],[]\n",
    "#     plot_colors = [\"red\",\"orange\",\"blue\",\"cyan\",\"purple\",\"green\",\"magenta\", \"salmon\"]\n",
    "#     init_sparsity = pruning_fraction_step\n",
    "#     i = 0\n",
    "#     while(init_sparsity <= target_sparsity):\n",
    "\n",
    "#         print(\"-----------------------------------------------------------------------------------------------\")\n",
    "#         print(\"-----------------------------------------------------------------------------------------------\")\n",
    "#         print(\"Currently pruning the model upto {} % of the baseline\".format(round(init_sparsity*100)))\n",
    "#         print(\"-----------------------------------------------------------------------------------------------\")\n",
    "#         print(\"-----------------------------------------------------------------------------------------------\")\n",
    "\n",
    "#         x_train_displ, x_test_displ, y_train_displ, y_test_displ, dxy_train_displ, dxy_test_displ =  muon_data_split(infile_muon_displ, \n",
    "#                                                                                                                        reg_pt_scale=reg_pt_scale, \n",
    "#                                                                                                                        reg_dxy_scale=reg_dxy_scale, \n",
    "#                                                                                                                        test_size=0.315)\n",
    "#         y_train_displ = np.abs(y_train_displ)\n",
    "#         y_test_displ = np.abs(y_test_displ)\n",
    "\n",
    "#         # training loop begins\n",
    "#         lr = training_params[i]['lr']\n",
    "#         clipnorm = training_params[i]['clipnorm']\n",
    "#         eps = training_params[i]['eps']\n",
    "#         momentum = training_params[i]['momentum']\n",
    "#         retrain_epochs = training_params[i]['epochs']\n",
    "#         retrain_batch_size = training_params[i]['batch_size']\n",
    "#         l1_reg = training_params[i]['l1_reg']\n",
    "#         l2_reg = training_params[i]['l2_reg']\n",
    "#         sparsity = init_sparsity\n",
    "        \n",
    "#         # define optimizer, callbacks here\n",
    "#         adam = Adam(lr=lr, clipnorm=clipnorm)\n",
    "#         lr_decay = LearningRateScheduler(lr_schedule, verbose=1)\n",
    "#         terminate_on_nan = TerminateOnNaN()\n",
    "#         early_stopping = EarlyStopping(monitor='val_loss', \n",
    "#                                        min_delta=1e-5, \n",
    "#                                        patience=40, \n",
    "#                                        verbose=True,\n",
    "#                                        mode='min')\n",
    "#         curr_model = None\n",
    "#         if len(pruned_models) == 0:\n",
    "#             curr_model = baseline_model\n",
    "#         else:\n",
    "#             curr_model = pruned_models[-1]\n",
    "\n",
    "#         pruned_model = create_sparse_model(model = curr_model,\n",
    "#                                                input_dim = nvariables,\n",
    "#                                                output_dim = 2,\n",
    "#                                                k_sparsity = sparsity,\n",
    "#                                                bn_epsilon = eps,\n",
    "#                                                bn_momentum = momentum,\n",
    "#                                                l1_reg = l1_reg,\n",
    "#                                                l2_reg = l1_reg,\n",
    "#                                                kernel_initializer=\"glorot_uniform\",\n",
    "#                                                optimizer = adam)\n",
    "\n",
    "#         pruned_model, history = train_model(model = pruned_model,\n",
    "#                                             x = x_train_displ,\n",
    "#                                             y = np.column_stack((y_train_displ, dxy_train_displ)),\n",
    "#                                             epochs = retrain_epochs,\n",
    "#                                             batch_size = retrain_batch_size,\n",
    "#                                             callbacks=[lr_decay, \n",
    "#                                                       early_stopping, \n",
    "#                                                       terminate_on_nan],\n",
    "#                                             verbose = True,\n",
    "#                                             validation_split=0.1)\n",
    "        \n",
    "#         # evaluate the model\n",
    "#         k_fold_validation(model = pruned_model, \n",
    "#                   x = x_test_displ, \n",
    "#                   y = y_test_displ, \n",
    "#                   dxy = dxy_test_displ, \n",
    "#                   folds =1,\n",
    "#                   metric_type = \"MAE\")    \n",
    "#         k_fold_validation(model = pruned_model, \n",
    "#                   x = x_test_displ, \n",
    "#                   y = y_test_displ, \n",
    "#                   dxy = dxy_test_displ, \n",
    "#                   folds =1,\n",
    "#                   metric_type = \"RMSE\")   \n",
    "\n",
    "#         __generate_delta_plots__(model = pruned_model,\n",
    "#                                  x = x_test_displ,\n",
    "#                                  y = y_test_displ,\n",
    "#                                  dxy = dxy_test_displ,\n",
    "#                                  color = plot_colors[i])\n",
    "        \n",
    "#         pruned_models.append(pruned_model)\n",
    "#         training_history.append(history)\n",
    "\n",
    "#         # training ends\n",
    "#         i += 1\n",
    "#         init_sparsity += pruning_fraction_step\n",
    "    \n",
    "#     return pruned_models, training_history"
   ]
  },
  {
   "cell_type": "code",
   "execution_count": null,
   "id": "Ntf330Vny7Yr",
   "metadata": {
    "id": "Ntf330Vny7Yr"
   },
   "outputs": [],
   "source": [
    "from typing import List, Union\n",
    "def run_iterative_pruning_v2 (X_train ,\n",
    "                              y_train ,\n",
    "                              dxy_train ,\n",
    "                              X_test ,\n",
    "                              y_test ,\n",
    "                              dxy_test ,\n",
    "                              baseline_model,\n",
    "                              pruning_type:str = \"unstructured\",\n",
    "                              init_sparsity: float = 0.1 ,\n",
    "                              target_sparsity: float = 1.0 ,\n",
    "                              pruning_fraction_step: float = 0.1 ,\n",
    "                              training_params: List[dict] = None ,\n",
    "                              cv_folds: int = 1 ,\n",
    "                              plot_colors: Union[str,List[str],None] = \"red\") :\n",
    "    if target_sparsity > 1.0 or target_sparsity <= 0 :\n",
    "        print (\"INVALID value entered for target sparsity, it can only be in the range [0,1]\")\n",
    "    if pruning_fraction_step > target_sparsity :\n",
    "        print (\"INVALID value entered for pruning fraction, it has to be <= target_sparsity\")\n",
    "\n",
    "    # list of models, new pruned models get appended to it while training\n",
    "    pruned_models , training_historys = [] , []\n",
    "    i = 0\n",
    "    while (init_sparsity <= target_sparsity) :\n",
    "\n",
    "        print (\"-----------------------------------------------------------------------------------------------\")\n",
    "        print (\"-----------------------------------------------------------------------------------------------\")\n",
    "        print (\"Currently pruning the model upto {} % of the baseline\".format (round (init_sparsity * 100)))\n",
    "        print (\"-----------------------------------------------------------------------------------------------\")\n",
    "        print (\"-----------------------------------------------------------------------------------------------\")\n",
    "\n",
    "        # training loop begins\n",
    "        lr = training_params [i] ['lr']\n",
    "        clipnorm = training_params [i] ['clipnorm']\n",
    "        eps = training_params [i] ['eps']\n",
    "        momentum = training_params [i] ['momentum']\n",
    "        retrain_epochs = training_params [i] ['epochs']\n",
    "        retrain_batch_size = training_params [i] ['batch_size']\n",
    "        l1_reg = training_params [i] ['l1_reg']\n",
    "        l2_reg = training_params [i] ['l2_reg']\n",
    "        sparsity = init_sparsity\n",
    "\n",
    "        # define optimizer, callbacks here\n",
    "        adam = Adam (lr=lr , clipnorm=clipnorm)\n",
    "        lr_decay = LearningRateScheduler (lr_schedule , verbose=1)\n",
    "        terminate_on_nan = TerminateOnNaN ()\n",
    "        early_stopping = EarlyStopping (min_delta=1e-5 ,\n",
    "                                        monitor='val_loss' ,\n",
    "                                        patience=10 ,\n",
    "                                        verbose=True ,\n",
    "                                        mode='auto')\n",
    "        curr_model = None\n",
    "        if len (pruned_models) == 0 :\n",
    "            curr_model = baseline_model\n",
    "        else :\n",
    "            curr_model = pruned_models [-1]\n",
    "\n",
    "        pruned_model = create_sparse_model (model=curr_model ,\n",
    "                                            input_dim=NVARIABLES ,\n",
    "                                            output_dim=2 ,\n",
    "                                            k_sparsity=sparsity ,\n",
    "                                            pruning_type=pruning_type,\n",
    "                                            bn_epsilon=eps ,\n",
    "                                            bn_momentum=momentum ,\n",
    "                                            l1_reg=l1_reg ,\n",
    "                                            l2_reg=l1_reg ,\n",
    "                                            kernel_initializer=\"glorot_uniform\",\n",
    "                                            optimizer=adam)\n",
    "\n",
    "        pruned_model , history = train_model (model=pruned_model ,\n",
    "                                              x=X_train ,\n",
    "                                              y=np.column_stack ((y_train , dxy_train)) ,\n",
    "                                              epochs=retrain_epochs ,\n",
    "                                              batch_size=retrain_batch_size ,\n",
    "                                              callbacks=[lr_decay ,\n",
    "                                                         early_stopping ,\n",
    "                                                         terminate_on_nan] ,\n",
    "                                              verbose=True ,\n",
    "                                              validation_split=0.1)\n",
    "\n",
    "        k_fold_validation (model=pruned_model ,\n",
    "                           x=X_test ,\n",
    "                           y=y_test ,\n",
    "                           dxy=dxy_test ,\n",
    "                           folds=cv_folds ,\n",
    "                           metric_type=\"MAE\")\n",
    "        k_fold_validation (model=pruned_model ,\n",
    "                           x=X_test ,\n",
    "                           y=y_test ,\n",
    "                           dxy=dxy_test ,\n",
    "                           folds=cv_folds ,\n",
    "                           metric_type=\"RMSE\")\n",
    "        if isinstance(plot_colors, list):\n",
    "            plot_color = plot_colors[i]\n",
    "        else:\n",
    "            plot_color = plot_colors\n",
    "        __generate_delta_plots__ (model=pruned_model ,\n",
    "                                  x=X_test ,\n",
    "                                  y=y_test ,\n",
    "                                  dxy=dxy_test ,\n",
    "                                  color=plot_color,\n",
    "                                  bins_y = [-3.,3.],\n",
    "                                  bins_dxy = [-75.,75.])\n",
    "\n",
    "        pruned_models.append (pruned_model)\n",
    "        training_historys.append (history)\n",
    "\n",
    "        # training ends\n",
    "        i += 1\n",
    "        init_sparsity += pruning_fraction_step\n",
    "\n",
    "    return pruned_models , training_historys"
   ]
  },
  {
   "cell_type": "code",
   "execution_count": null,
   "id": "31a61c8a",
   "metadata": {
    "id": "31a61c8a",
    "scrolled": true
   },
   "outputs": [],
   "source": [
    "# ft_params = [\n",
    "#         {\n",
    "#         \"lr\": 1e-4,\n",
    "#         \"clipnorm\": 100.,\n",
    "#         \"eps\": 1e-4,\n",
    "#         \"momentum\": 0.9,\n",
    "#         \"epochs\": 50,\n",
    "#         \"batch_size\": 1000,\n",
    "#         \"l1_reg\": 0.0,\n",
    "#         \"l2_reg\": 0.0\n",
    "#     }]\n",
    "\n",
    "ft_params = [\n",
    "        {\n",
    "        \"lr\": 5e-3,\n",
    "        \"clipnorm\": 100.,\n",
    "        \"eps\": 1e-4,\n",
    "        \"momentum\": 0.9,\n",
    "        \"epochs\": 250,\n",
    "        \"batch_size\": 1000,\n",
    "        \"l1_reg\": 0.0,\n",
    "        \"l2_reg\": 0.0\n",
    "    }]\n",
    "pruned_model_10, training_history_10 = run_iterative_pruning_v2(x_train_displ, y_train_displ, dxy_train_displ,\n",
    "                                                                x_test_displ, y_test_displ, dxy_test_displ,\n",
    "                                                                baseline_model = baseline,\n",
    "                                                                init_sparsity = 0.1,\n",
    "                                                                target_sparsity = 0.1,\n",
    "                                                                pruning_fraction_step = 0.1,\n",
    "                                                                training_params = ft_params,\n",
    "                                                                cv_folds = 1,\n",
    "                                                                plot_colors = \"salmon\")\n"
   ]
  },
  {
   "cell_type": "code",
   "execution_count": null,
   "id": "4MO1lGxD96ru",
   "metadata": {
    "collapsed": true,
    "id": "4MO1lGxD96ru"
   },
   "outputs": [],
   "source": [
    "# ft_params = [\n",
    "#     {\n",
    "#         \"lr\": 1e-3,\n",
    "#         \"clipnorm\": 100.,\n",
    "#         \"eps\": 1e-4,\n",
    "#         \"momentum\": 0.8,\n",
    "#         \"epochs\": 75,\n",
    "#         \"batch_size\": 1000,\n",
    "#         \"l1_reg\": 0.0,\n",
    "#         \"l2_reg\": 0.0\n",
    "#     }]\n",
    "ft_params = [\n",
    "        {\n",
    "        \"lr\": 6e-3,\n",
    "        \"clipnorm\": 100.,\n",
    "        \"eps\": 1e-4,\n",
    "        \"momentum\": 0.9,\n",
    "        \"epochs\": 250,\n",
    "        \"batch_size\": 1000,\n",
    "        \"l1_reg\": 0.0,\n",
    "        \"l2_reg\": 0.0\n",
    "    }]\n",
    "\n",
    "pruned_model_20, training_history_20 = run_iterative_pruning_v2(x_train_displ, y_train_displ, dxy_train_displ,\n",
    "                                                                x_test_displ, y_test_displ, dxy_test_displ,\n",
    "                                                                baseline_model = pruned_model_10[0],\n",
    "                                                                init_sparsity = 0.2,\n",
    "                                                                target_sparsity = 0.2,\n",
    "                                                                pruning_fraction_step = 0.1,\n",
    "                                                                training_params = ft_params,\n",
    "                                                                cv_folds = 1,\n",
    "                                                                plot_colors = \"plum\")\n"
   ]
  },
  {
   "cell_type": "code",
   "execution_count": null,
   "id": "dmNqT1ZcENlw",
   "metadata": {
    "id": "dmNqT1ZcENlw"
   },
   "outputs": [],
   "source": [
    "ft_params = [\n",
    "       {\n",
    "        \"lr\": 7e-3,\n",
    "        \"clipnorm\": 100.,\n",
    "        \"eps\": 1e-4,\n",
    "        \"momentum\": 0.9,\n",
    "        \"epochs\": 250,\n",
    "        \"batch_size\": 1000,\n",
    "        \"l1_reg\": 0.0,\n",
    "        \"l2_reg\": 0.0\n",
    "    }]\n",
    "pruned_model_30, training_history_30 = run_iterative_pruning_v2(x_train_displ, y_train_displ, dxy_train_displ,\n",
    "                                                                x_test_displ, y_test_displ, dxy_test_displ,\n",
    "                                                                baseline_model = pruned_model_20[0],\n",
    "                                                                init_sparsity = 0.3,\n",
    "                                                                target_sparsity = 0.3,\n",
    "                                                                pruning_fraction_step = 0.1,\n",
    "                                                                training_params = ft_params,\n",
    "                                                                cv_folds = 1,\n",
    "                                                                plot_colors = \"green\")\n"
   ]
  },
  {
   "cell_type": "code",
   "execution_count": null,
   "id": "wYzT1r_PQw2L",
   "metadata": {
    "id": "wYzT1r_PQw2L"
   },
   "outputs": [],
   "source": [
    "# ft_params = [\n",
    "#     {\n",
    "#         \"lr\": 2.0e-3,\n",
    "#         \"clipnorm\": 100.,\n",
    "#         \"eps\": 1e-4,\n",
    "#         \"momentum\": 0.9,\n",
    "#         \"epochs\": 200,\n",
    "#         \"batch_size\": 1000,\n",
    "#         \"l1_reg\": 0.0,\n",
    "#         \"l2_reg\": 0.0\n",
    "#     }]\n",
    "ft_params = [\n",
    "    {\n",
    "        \"lr\": 7.5e-3,\n",
    "        \"clipnorm\": 100.,\n",
    "        \"eps\": 1e-4,\n",
    "        \"momentum\": 0.9,\n",
    "        \"epochs\": 250,\n",
    "        \"batch_size\": 1000,\n",
    "        \"l1_reg\": 0.0,\n",
    "        \"l2_reg\": 0.0\n",
    "    }]\n",
    "pruned_model_40, training_history_40 = run_iterative_pruning_v2(x_train_displ, y_train_displ, dxy_train_displ,\n",
    "                                                                x_test_displ, y_test_displ, dxy_test_displ,\n",
    "                                                                baseline_model = pruned_model_30[0],\n",
    "                                                                init_sparsity = 0.4,\n",
    "                                                                target_sparsity = 0.4,\n",
    "                                                                pruning_fraction_step = 0.1,\n",
    "                                                                training_params = ft_params,\n",
    "                                                                cv_folds = 1,\n",
    "                                                                plot_colors = \"purple\")\n"
   ]
  },
  {
   "cell_type": "code",
   "execution_count": null,
   "id": "dMPOEQjm__yT",
   "metadata": {
    "id": "dMPOEQjm__yT"
   },
   "outputs": [],
   "source": [
    "# ft_params = [\n",
    "#     {\n",
    "#         \"lr\": 3.5e-3,\n",
    "#         \"clipnorm\": 50.,\n",
    "#         \"eps\": 1e-4,\n",
    "#         \"momentum\": 0.9,\n",
    "#         \"epochs\": 250,\n",
    "#         \"batch_size\": 1000,\n",
    "#         \"l1_reg\": 0.0,\n",
    "#         \"l2_reg\": 0.0\n",
    "#     }]\n",
    "ft_params = [\n",
    "    {\n",
    "        \"lr\": 7e-3,\n",
    "        \"clipnorm\": 100.,\n",
    "        \"eps\": 1e-4,\n",
    "        \"momentum\": 0.9,\n",
    "        \"epochs\": 250,\n",
    "        \"batch_size\": 1000,\n",
    "        \"l1_reg\": 0.0,\n",
    "        \"l2_reg\": 0.0\n",
    "    }]\n",
    "pruned_model_50, training_history_50 = run_iterative_pruning_v2(x_train_displ, y_train_displ, dxy_train_displ,\n",
    "                                                                x_test_displ, y_test_displ, dxy_test_displ,\n",
    "                                                                baseline_model = pruned_model_40[0],\n",
    "                                                                init_sparsity = 0.5,\n",
    "                                                                target_sparsity = 0.5,\n",
    "                                                                # pruning_type = \"structured\",\n",
    "                                                                pruning_fraction_step = 0.1,\n",
    "                                                                training_params = ft_params,\n",
    "                                                                cv_folds = 1,\n",
    "                                                                plot_colors = \"blue\")\n"
   ]
  },
  {
   "cell_type": "code",
   "execution_count": null,
   "id": "sOxIh0HCmrA-",
   "metadata": {
    "id": "sOxIh0HCmrA-"
   },
   "outputs": [],
   "source": [
    "# ft_params = [\n",
    "#     {\n",
    "#         \"lr\": 0.005,\n",
    "#         \"clipnorm\": 100.,\n",
    "#         \"eps\": 1e-4,\n",
    "#         \"momentum\": 0.9,\n",
    "#         \"epochs\": 300,\n",
    "#         \"batch_size\": 1000,\n",
    "#         \"l1_reg\": 0.0,\n",
    "#         \"l2_reg\": 0.0\n",
    "#     }]\n",
    "ft_params = [\n",
    "    {\n",
    "        \"lr\": 7.5e-3,\n",
    "        \"clipnorm\": 100.,\n",
    "        \"eps\": 1e-4,\n",
    "        \"momentum\": 0.9,\n",
    "        \"epochs\": 250,\n",
    "        \"batch_size\": 1000,\n",
    "        \"l1_reg\": 0.0,\n",
    "        \"l2_reg\": 0.0\n",
    "    }]\n",
    "pruned_model_60, training_history_60 = run_iterative_pruning_v2(x_train_displ, y_train_displ, dxy_train_displ,\n",
    "                                                                x_test_displ, y_test_displ, dxy_test_displ,\n",
    "                                                                baseline_model = pruned_model_50[0],\n",
    "                                                                init_sparsity = 0.6,\n",
    "                                                                target_sparsity = 0.6,\n",
    "                                                                pruning_fraction_step = 0.1,\n",
    "                                                                training_params = ft_params,\n",
    "                                                                cv_folds = 1,\n",
    "                                                                plot_colors = \"orange\")\n"
   ]
  },
  {
   "cell_type": "code",
   "execution_count": null,
   "id": "JKiqV1NdDw84",
   "metadata": {
    "id": "JKiqV1NdDw84"
   },
   "outputs": [],
   "source": [
    "ft_params = [\n",
    "    {\n",
    "        \"lr\": 1e-2,\n",
    "        \"clipnorm\": 100.,\n",
    "        \"eps\": 1e-4,\n",
    "        \"momentum\": 0.9,\n",
    "        \"epochs\": 250,\n",
    "        \"batch_size\": 1000,\n",
    "        \"l1_reg\": 0.0,\n",
    "        \"l2_reg\": 0.0\n",
    "    }]\n",
    "pruned_model_70, training_history_70 = run_iterative_pruning_v2(x_train_displ, y_train_displ, dxy_train_displ,\n",
    "                                                                x_test_displ, y_test_displ, dxy_test_displ,\n",
    "                                                                baseline_model = pruned_model_60[0],\n",
    "                                                                init_sparsity = 0.7,\n",
    "                                                                target_sparsity = 0.7,\n",
    "                                                                pruning_fraction_step = 0.1,\n",
    "                                                                training_params = ft_params,\n",
    "                                                                cv_folds = 1,\n",
    "                                                                plot_colors = \"turquoise\")"
   ]
  },
  {
   "cell_type": "markdown",
   "id": "8d83027a",
   "metadata": {
    "id": "8d83027a"
   },
   "source": [
    "### Part- V: Saving and Loading the Trained Model"
   ]
  },
  {
   "cell_type": "code",
   "execution_count": null,
   "id": "7YugntaKACfd",
   "metadata": {
    "id": "7YugntaKACfd"
   },
   "outputs": [],
   "source": [
    "pruned_models = [pruned_model_10[0],\n",
    "                 pruned_model_20[0],\n",
    "                 pruned_model_30[0],\n",
    "                 pruned_model_40[0],\n",
    "                 pruned_model_50[0],\n",
    "                 pruned_model_60[0], \n",
    "                 pruned_model_70[0]]\n",
    "training_history = [training_history_10[0],\n",
    "                    training_history_20[0],\n",
    "                    training_history_30[0],\n",
    "                    training_history_40[0],\n",
    "                    training_history_50[0],\n",
    "                    training_history_60[0], \n",
    "                    training_history_70[0]]"
   ]
  },
  {
   "cell_type": "code",
   "execution_count": null,
   "id": "44a376f3",
   "metadata": {
    "id": "44a376f3"
   },
   "outputs": [],
   "source": [
    "import pickle\n",
    "from nn_pruning_module_support import saving_model\n",
    "for i in range(len(pruned_models)):\n",
    "    j = (i+1)*10\n",
    "    with open(sys.path[-1] +'/' + \"trainingLog_US_\" + str(j), 'wb') as file_pi:\n",
    "        pickle.dump(training_history[i].history, file_pi)\n",
    "    model_filename = \"custom_model_US_\" + str(j)\n",
    "    saving_model(model = pruned_models[i], \n",
    "                      filepath=  \"./models\", \n",
    "                      model_filename = model_filename)"
   ]
  }
 ],
 "metadata": {
  "accelerator": "GPU",
  "colab": {
   "collapsed_sections": [],
   "machine_shape": "hm",
   "name": "implementing_iterative_pruning-v2.0.ipynb",
   "provenance": []
  },
  "kernelspec": {
   "display_name": "Python 3 (ipykernel)",
   "language": "python",
   "name": "python3"
  },
  "language_info": {
   "codemirror_mode": {
    "name": "ipython",
    "version": 3
   },
   "file_extension": ".py",
   "mimetype": "text/x-python",
   "name": "python",
   "nbconvert_exporter": "python",
   "pygments_lexer": "ipython3",
   "version": "3.8.12"
  }
 },
 "nbformat": 4,
 "nbformat_minor": 5
}
