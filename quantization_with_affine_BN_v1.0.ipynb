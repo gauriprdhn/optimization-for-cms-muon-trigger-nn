{
 "cells": [
  {
   "cell_type": "code",
   "execution_count": 25,
   "id": "87c98e58",
   "metadata": {},
   "outputs": [
    {
     "name": "stdout",
     "output_type": "stream",
     "text": [
      "2.6.0\n",
      "0.9.0\n",
      "1.3.4\n",
      "1.19.5\n"
     ]
    }
   ],
   "source": [
    "import numpy as np\n",
    "import pandas as pd\n",
    "import pickle\n",
    "import matplotlib.pyplot as plt\n",
    "import seaborn as sns\n",
    "from sklearn.model_selection import train_test_split\n",
    "import os\n",
    "import qkeras\n",
    "import tensorflow as tf \n",
    "print(tf.__version__)\n",
    "print(qkeras.__version__)\n",
    "print(pd.__version__)\n",
    "print(np.__version__)\n",
    "from nn_globals import *\n",
    "from nn_plotting import __generate_delta_plots__\n",
    "from dataset import muon_data_split\n",
    "from nn_evaluate import huber_loss, k_fold_validation\n",
    "from nn_pruning_module_support import loading_trained_model\n",
    "from nn_training import train_model, lr_schedule\n",
    "from keras.models import Model, load_model\n",
    "from keras.regularizers import L1L2\n",
    "from tensorflow.keras.optimizers import Adam\n",
    "from qkeras.qlayers import QDense, QActivation\n",
    "from keras.layers import Input, BatchNormalization, Dense, Activation\n",
    "from keras.callbacks import LearningRateScheduler, TerminateOnNaN, ModelCheckpoint, EarlyStopping"
   ]
  },
  {
   "cell_type": "code",
   "execution_count": 4,
   "id": "5428f767",
   "metadata": {},
   "outputs": [
    {
     "name": "stderr",
     "output_type": "stream",
     "text": [
      "[INFO    ] Loading muon data from ./data/NN_input_params_FlatXYZ.npz ...\n",
      "[INFO    ] Loaded the variables with shape (19300000, 25)\n",
      "[INFO    ] Loaded the parameters with shape (19300000, 6)\n",
      "[INFO    ] Loaded the encoded variables with shape (3284620, 23)\n",
      "[INFO    ] Loaded the encoded parameters with shape (3284620,)\n",
      "[INFO    ] Loaded # of training and testing events: (2249964, 1034656)\n",
      "[WARNING ] The last batch for training could be too few! (2024967%128)=7. Please change test_size.\n",
      "[WARNING ] Try this formula: int(int(3284620*0.685)*0.9) % 128\n",
      "[WARNING ] The last batch for training after mixing could be too few! (4049935%128)=15. Please change test_size.\n",
      "[WARNING ] Try this formula: int(int(3284620*0.685)*2*0.9) % 128\n"
     ]
    }
   ],
   "source": [
    "# Import muon data\n",
    "# 'x' is the array of input variables, 'y' is the q/pT\n",
    "x_train_displ, x_test_displ, y_train_displ, y_test_displ, dxy_train_displ, dxy_test_displ= muon_data_split(filename=DATAFILEPATH, \n",
    "                                                                                                           reg_pt_scale=REG_PT_SCALE, \n",
    "                                                                                                           reg_dxy_scale=REG_DXY_SCALE, \n",
    "                                                                                                           test_size=TEST_SIZE,\n",
    "                                                                                                           nvariables = NVARIABLES,\n",
    "                                                                                                           nentries= NENTRIES,\n",
    "                                                                                                           batch_size = 128)\n"
   ]
  },
  {
   "cell_type": "code",
   "execution_count": 6,
   "id": "bd8d85a1",
   "metadata": {},
   "outputs": [
    {
     "name": "stdout",
     "output_type": "stream",
     "text": [
      "./models/baseline_reduced_dim_0.5.json\n",
      "./models/baseline_reduced_dim_0.5_weights.h5\n",
      "Metal device set to: Apple M1\n",
      "Loaded model from disk\n",
      "Model: \"baseline-model\"\n",
      "_________________________________________________________________\n",
      "Layer (type)                 Output Shape              Param #   \n",
      "=================================================================\n",
      "input_6 (InputLayer)         [(None, 23)]              0         \n",
      "_________________________________________________________________\n",
      "bn-input (BatchNormalization (None, 23)                92        \n",
      "_________________________________________________________________\n",
      "hidden-dense-1 (Dense)       (None, 10)                230       \n",
      "_________________________________________________________________\n",
      "bn-1 (BatchNormalization)    (None, 10)                40        \n",
      "_________________________________________________________________\n",
      "act_1 (Activation)           (None, 10)                0         \n",
      "_________________________________________________________________\n",
      "hidden-dense-2 (Dense)       (None, 7)                 70        \n",
      "_________________________________________________________________\n",
      "bn-2 (BatchNormalization)    (None, 7)                 28        \n",
      "_________________________________________________________________\n",
      "act_2 (Activation)           (None, 7)                 0         \n",
      "_________________________________________________________________\n",
      "hidden-dense-3 (Dense)       (None, 5)                 35        \n",
      "_________________________________________________________________\n",
      "bn-3 (BatchNormalization)    (None, 5)                 20        \n",
      "_________________________________________________________________\n",
      "act_3 (Activation)           (None, 5)                 0         \n",
      "_________________________________________________________________\n",
      "dense-output (Dense)         (None, 2)                 12        \n",
      "_________________________________________________________________\n",
      "activation_5 (Activation)    (None, 2)                 0         \n",
      "=================================================================\n",
      "Total params: 527\n",
      "Trainable params: 437\n",
      "Non-trainable params: 90\n",
      "_________________________________________________________________\n"
     ]
    },
    {
     "name": "stderr",
     "output_type": "stream",
     "text": [
      "2022-01-12 11:19:05.950201: I tensorflow/core/common_runtime/pluggable_device/pluggable_device_factory.cc:305] Could not identify NUMA node of platform GPU ID 0, defaulting to 0. Your kernel may not have been built with NUMA support.\n",
      "2022-01-12 11:19:05.950938: I tensorflow/core/common_runtime/pluggable_device/pluggable_device_factory.cc:271] Created TensorFlow device (/job:localhost/replica:0/task:0/device:GPU:0 with 0 MB memory) -> physical PluggableDevice (device: 0, name: METAL, pci bus id: <undefined>)\n"
     ]
    }
   ],
   "source": [
    "unquantized_model = loading_trained_model(filepath = \"./models\",\n",
    "                                          model_filename = \"baseline_reduced_dim_0.5\")\n",
    "unquantized_model.summary()"
   ]
  },
  {
   "cell_type": "code",
   "execution_count": 7,
   "id": "64652529",
   "metadata": {},
   "outputs": [],
   "source": [
    "def set_weights_from_baseline(baseline, qmodel):\n",
    "    layer_config = []\n",
    "    for layer in baseline.layers:\n",
    "        layer_config.append(layer.get_weights())\n",
    "    for i in range(1,len(qmodel.layers)-1):\n",
    "        layer = qmodel.layers[i]\n",
    "        if \"act\" in layer.name:\n",
    "            i+=1\n",
    "        else:\n",
    "            layer.set_weights(layer_config[i])\n",
    "    return qmodel\n",
    "\n",
    "def create_model_quantized(baseline,\n",
    "                           bits, \n",
    "                           int_bits, \n",
    "                           nvariables, \n",
    "                           lr=0.001, \n",
    "                           clipnorm=10., \n",
    "                           initializer = \"he_uniform\",\n",
    "                           nodes1=64, \n",
    "                           nodes2=32, \n",
    "                           nodes3=16, \n",
    "                           outnodes=2,\n",
    "                           l1_reg = 0.0, \n",
    "                           l2_reg = 0.0):\n",
    "  \n",
    "    # intializing the quantizers and layer variables\n",
    "    kernelQuantizer = \"quantized_bits(bits={},integer={},symmetric = True,use_stochastic_rounding=True, qnoise_factor = 1.0, alpha = 1.0)\".format(bits, int_bits)\n",
    "    # activationQuantizer = \"quantized_relu(bits={},integer={}, use_sigmoid=True,use_stochastic_rounding=True, qnoise_factor = 1.0)\".format(bits,int_bits)\n",
    "    activationQuantizer = \"quantized_tanh(bits ={}, symmetric = True, use_stochastic_rounding=True, use_real_tanh =True)\".format(bits)\n",
    "    regularizer = L1L2(l1=l1_reg, l2=l2_reg)\n",
    "    bn_momentum = 0.9\n",
    "    eps = 1e-4\n",
    "\n",
    "    x = x_in = Input((nvariables,))\n",
    "    x = BatchNormalization(epsilon=eps, momentum=bn_momentum,name=\"bn-input\")(x)\n",
    "    \n",
    "    x = QDense(nodes1, \n",
    "               kernel_quantizer = \"quantized_bits(bits={},integer={},symmetric = False,use_stochastic_rounding=True, qnoise_factor = 1.0, alpha = 1.0)\".format(bits, int_bits),\n",
    "               kernel_initializer=initializer,\n",
    "               use_bias = False,\n",
    "               kernel_regularizer = regularizer,\n",
    "               name=\"hidden-dense-1\")(x)\n",
    "    x = BatchNormalization(epsilon = eps, momentum  = bn_momentum, name = \"bn-1\")(x)\n",
    "    x = QActivation(activation = activationQuantizer,\n",
    "                    name=\"act_1\")(x)\n",
    "    \n",
    "    if nodes2:\n",
    "    \n",
    "        x = QDense(nodes2, \n",
    "                   kernel_quantizer = kernelQuantizer, \n",
    "                   kernel_initializer=initializer,\n",
    "                   use_bias = False,\n",
    "                   kernel_regularizer = regularizer,\n",
    "                   name=\"hidden-dense-2\")(x)\n",
    "        x = BatchNormalization(epsilon = eps, momentum  = bn_momentum, name = \"bn-2\")(x)\n",
    "        x = QActivation(activation = activationQuantizer,\n",
    "                    name=\"act_2\")(x)\n",
    "        if nodes3:\n",
    "\n",
    "            x = QDense(nodes3, \n",
    "                       kernel_quantizer = kernelQuantizer, \n",
    "                       kernel_initializer=initializer,\n",
    "                       kernel_regularizer = regularizer,\n",
    "                       use_bias = False,\n",
    "                       name=\"hidden-dense-3\")(x)\n",
    "            x = BatchNormalization(epsilon = eps, momentum  = bn_momentum, name = \"bn-3\")(x)\n",
    "            x = QActivation(activation = activationQuantizer, \n",
    "                            name=\"act_3\")(x)\n",
    "\n",
    "    x = QDense(outnodes,\n",
    "                kernel_quantizer = kernelQuantizer,\n",
    "                kernel_initializer = initializer,\n",
    "                use_bias = True,\n",
    "                name=\"dense-output\")(x)\n",
    "    x = Activation(\"linear\")(x)\n",
    "    \n",
    "    model = Model(inputs=x_in, outputs=x,name=\"quantized-model\")\n",
    "    \n",
    "    adam = tf.keras.optimizers.Adam(lr=lr, \n",
    "                                    clipnorm=clipnorm)\n",
    "    model.compile(optimizer=adam, \n",
    "                  loss=huber_loss, \n",
    "                  metrics=['acc','mse','mae'])\n",
    "    # transfer the pre-trained model's final weights to the quantized model\n",
    "    model = set_weights_from_baseline(baseline, model)\n",
    "    model.summary()\n",
    "    return model\n",
    "    "
   ]
  },
  {
   "cell_type": "code",
   "execution_count": 27,
   "id": "8b1549af",
   "metadata": {},
   "outputs": [
    {
     "name": "stderr",
     "output_type": "stream",
     "text": [
      "/Users/gpradhan/miniforge3/envs/mlp/lib/python3.8/site-packages/keras/optimizer_v2/optimizer_v2.py:355: UserWarning: The `lr` argument is deprecated, use `learning_rate` instead.\n",
      "  warnings.warn(\n",
      "[INFO    ] Training model with l1_reg: 0.0 l2_reg: 0.0\n",
      "[INFO    ] Begin training ...\n"
     ]
    },
    {
     "name": "stdout",
     "output_type": "stream",
     "text": [
      "Model: \"quantized-model\"\n",
      "_________________________________________________________________\n",
      "Layer (type)                 Output Shape              Param #   \n",
      "=================================================================\n",
      "input_4 (InputLayer)         [(None, 23)]              0         \n",
      "_________________________________________________________________\n",
      "bn-input (BatchNormalization (None, 23)                92        \n",
      "_________________________________________________________________\n",
      "hidden-dense-1 (QDense)      (None, 10)                230       \n",
      "_________________________________________________________________\n",
      "bn-1 (BatchNormalization)    (None, 10)                40        \n",
      "_________________________________________________________________\n",
      "act_1 (QActivation)          (None, 10)                0         \n",
      "_________________________________________________________________\n",
      "hidden-dense-2 (QDense)      (None, 7)                 70        \n",
      "_________________________________________________________________\n",
      "bn-2 (BatchNormalization)    (None, 7)                 28        \n",
      "_________________________________________________________________\n",
      "act_2 (QActivation)          (None, 7)                 0         \n",
      "_________________________________________________________________\n",
      "hidden-dense-3 (QDense)      (None, 5)                 35        \n",
      "_________________________________________________________________\n",
      "bn-3 (BatchNormalization)    (None, 5)                 20        \n",
      "_________________________________________________________________\n",
      "act_3 (QActivation)          (None, 5)                 0         \n",
      "_________________________________________________________________\n",
      "dense-output (QDense)        (None, 2)                 12        \n",
      "_________________________________________________________________\n",
      "activation_3 (Activation)    (None, 2)                 0         \n",
      "=================================================================\n",
      "Total params: 527\n",
      "Trainable params: 437\n",
      "Non-trainable params: 90\n",
      "_________________________________________________________________\n",
      "Epoch 1/400\n"
     ]
    },
    {
     "name": "stderr",
     "output_type": "stream",
     "text": [
      "2022-01-12 13:37:45.691225: I tensorflow/core/grappler/optimizers/custom_graph_optimizer_registry.cc:112] Plugin optimizer for device_type GPU is enabled.\n"
     ]
    },
    {
     "name": "stdout",
     "output_type": "stream",
     "text": [
      "1013/1013 [==============================] - ETA: 0s - loss: 14.5771 - acc: 0.9327 - mse: 310.0107 - mae: 11.4840"
     ]
    },
    {
     "name": "stderr",
     "output_type": "stream",
     "text": [
      "2022-01-12 13:38:06.923103: I tensorflow/core/grappler/optimizers/custom_graph_optimizer_registry.cc:112] Plugin optimizer for device_type GPU is enabled.\n"
     ]
    },
    {
     "name": "stdout",
     "output_type": "stream",
     "text": [
      "1013/1013 [==============================] - 23s 22ms/step - loss: 14.5771 - acc: 0.9327 - mse: 310.0107 - mae: 11.4840 - val_loss: 13.5867 - val_acc: 0.9367 - val_mse: 263.6441 - val_mae: 10.7467\n",
      "Epoch 2/400\n",
      "1013/1013 [==============================] - 24s 23ms/step - loss: 13.6591 - acc: 0.9346 - mse: 263.5576 - mae: 10.8010 - val_loss: 13.5923 - val_acc: 0.9367 - val_mse: 262.6001 - val_mae: 10.7509\n",
      "Epoch 3/400\n",
      "1013/1013 [==============================] - 21s 20ms/step - loss: 13.6212 - acc: 0.9347 - mse: 262.4961 - mae: 10.7726 - val_loss: 13.6678 - val_acc: 0.9330 - val_mse: 264.0602 - val_mae: 10.8082\n",
      "Epoch 4/400\n",
      "1013/1013 [==============================] - 20s 20ms/step - loss: 13.5987 - acc: 0.9349 - mse: 261.9934 - mae: 10.7558 - val_loss: 13.6286 - val_acc: 0.9347 - val_mse: 263.1693 - val_mae: 10.7779\n",
      "Epoch 5/400\n",
      "1013/1013 [==============================] - 20s 20ms/step - loss: 13.6097 - acc: 0.9345 - mse: 262.1906 - mae: 10.7641 - val_loss: 13.4903 - val_acc: 0.9370 - val_mse: 260.2715 - val_mae: 10.6747\n",
      "\n",
      "Epoch 00005: saving model to ./checkpoints/quantized_model_0.5_ckpt_epoch_05.hdf5\n",
      "Epoch 6/400\n",
      "1013/1013 [==============================] - 21s 20ms/step - loss: 13.5905 - acc: 0.9348 - mse: 261.5260 - mae: 10.7498 - val_loss: 13.6366 - val_acc: 0.9361 - val_mse: 262.3185 - val_mae: 10.7845\n",
      "Epoch 7/400\n",
      "1013/1013 [==============================] - 21s 20ms/step - loss: 13.5460 - acc: 0.9350 - mse: 260.3893 - mae: 10.7166 - val_loss: 13.4867 - val_acc: 0.9356 - val_mse: 259.5864 - val_mae: 10.6721\n",
      "Epoch 8/400\n",
      "1013/1013 [==============================] - 22s 21ms/step - loss: 13.5267 - acc: 0.9348 - mse: 260.0372 - mae: 10.7020 - val_loss: 13.5822 - val_acc: 0.9360 - val_mse: 260.7746 - val_mae: 10.7437\n",
      "Epoch 9/400\n",
      "1013/1013 [==============================] - 23s 23ms/step - loss: 13.4968 - acc: 0.9347 - mse: 259.5943 - mae: 10.6796 - val_loss: 13.4623 - val_acc: 0.9352 - val_mse: 258.7296 - val_mae: 10.6544\n",
      "Epoch 10/400\n",
      "1013/1013 [==============================] - 25s 24ms/step - loss: 13.4520 - acc: 0.9346 - mse: 259.1228 - mae: 10.6460 - val_loss: 13.3768 - val_acc: 0.9356 - val_mse: 258.0286 - val_mae: 10.5906\n",
      "\n",
      "Epoch 00010: saving model to ./checkpoints/quantized_model_0.5_ckpt_epoch_10.hdf5\n",
      "Epoch 11/400\n",
      "1013/1013 [==============================] - 23s 23ms/step - loss: 13.4145 - acc: 0.9347 - mse: 258.7827 - mae: 10.6178 - val_loss: 13.6965 - val_acc: 0.9307 - val_mse: 263.1714 - val_mae: 10.8305\n",
      "Epoch 12/400\n",
      "1013/1013 [==============================] - 23s 23ms/step - loss: 13.3755 - acc: 0.9351 - mse: 258.0434 - mae: 10.5887 - val_loss: 13.5665 - val_acc: 0.9324 - val_mse: 260.0826 - val_mae: 10.7318\n",
      "Epoch 13/400\n",
      "1013/1013 [==============================] - 21s 21ms/step - loss: 13.3522 - acc: 0.9351 - mse: 257.3652 - mae: 10.5713 - val_loss: 13.3647 - val_acc: 0.9330 - val_mse: 258.1045 - val_mae: 10.5809\n",
      "Epoch 14/400\n",
      "1013/1013 [==============================] - 21s 21ms/step - loss: 13.3703 - acc: 0.9349 - mse: 257.8687 - mae: 10.5847 - val_loss: 13.5069 - val_acc: 0.9293 - val_mse: 262.0316 - val_mae: 10.6870\n",
      "Epoch 15/400\n",
      "1013/1013 [==============================] - 21s 21ms/step - loss: 13.3628 - acc: 0.9349 - mse: 257.7509 - mae: 10.5791 - val_loss: 13.2970 - val_acc: 0.9363 - val_mse: 257.5418 - val_mae: 10.5295\n",
      "\n",
      "Epoch 00015: saving model to ./checkpoints/quantized_model_0.5_ckpt_epoch_15.hdf5\n",
      "Epoch 16/400\n",
      "1013/1013 [==============================] - 21s 21ms/step - loss: 13.3647 - acc: 0.9346 - mse: 257.6947 - mae: 10.5806 - val_loss: 13.2246 - val_acc: 0.9373 - val_mse: 255.6977 - val_mae: 10.4757\n",
      "Epoch 17/400\n",
      "1013/1013 [==============================] - 22s 21ms/step - loss: 13.3654 - acc: 0.9348 - mse: 257.7009 - mae: 10.5810 - val_loss: 13.2453 - val_acc: 0.9357 - val_mse: 256.8245 - val_mae: 10.4906\n",
      "Epoch 18/400\n",
      "1013/1013 [==============================] - 21s 20ms/step - loss: 13.3647 - acc: 0.9347 - mse: 257.8206 - mae: 10.5805 - val_loss: 13.3218 - val_acc: 0.9361 - val_mse: 256.4814 - val_mae: 10.5490\n",
      "Epoch 19/400\n",
      "1013/1013 [==============================] - 21s 21ms/step - loss: 13.3569 - acc: 0.9347 - mse: 257.6650 - mae: 10.5746 - val_loss: 13.4870 - val_acc: 0.9351 - val_mse: 259.4573 - val_mae: 10.6723\n",
      "Epoch 20/400\n",
      "1013/1013 [==============================] - 22s 22ms/step - loss: 13.3442 - acc: 0.9351 - mse: 257.3818 - mae: 10.5651 - val_loss: 13.2570 - val_acc: 0.9360 - val_mse: 255.4908 - val_mae: 10.5004\n",
      "\n",
      "Epoch 00020: saving model to ./checkpoints/quantized_model_0.5_ckpt_epoch_20.hdf5\n",
      "Epoch 21/400\n",
      "1013/1013 [==============================] - 21s 21ms/step - loss: 13.3446 - acc: 0.9348 - mse: 257.4490 - mae: 10.5654 - val_loss: 13.2930 - val_acc: 0.9345 - val_mse: 256.7248 - val_mae: 10.5273\n",
      "Epoch 22/400\n",
      "1013/1013 [==============================] - 21s 20ms/step - loss: 13.3479 - acc: 0.9348 - mse: 257.5459 - mae: 10.5679 - val_loss: 13.8095 - val_acc: 0.9274 - val_mse: 268.0923 - val_mae: 10.9145\n",
      "Epoch 23/400\n",
      "1013/1013 [==============================] - 21s 20ms/step - loss: 13.3342 - acc: 0.9350 - mse: 257.2723 - mae: 10.5577 - val_loss: 13.3849 - val_acc: 0.9305 - val_mse: 257.2043 - val_mae: 10.5970\n",
      "Epoch 24/400\n",
      "1013/1013 [==============================] - 21s 20ms/step - loss: 13.3503 - acc: 0.9348 - mse: 257.6478 - mae: 10.5698 - val_loss: 13.2852 - val_acc: 0.9377 - val_mse: 256.3694 - val_mae: 10.5207\n",
      "Epoch 25/400\n",
      "1013/1013 [==============================] - 21s 21ms/step - loss: 13.3421 - acc: 0.9348 - mse: 257.4683 - mae: 10.5636 - val_loss: 13.2657 - val_acc: 0.9369 - val_mse: 257.1012 - val_mae: 10.5066\n",
      "\n",
      "Epoch 00025: saving model to ./checkpoints/quantized_model_0.5_ckpt_epoch_25.hdf5\n",
      "Epoch 26/400\n",
      "1013/1013 [==============================] - 22s 21ms/step - loss: 13.3611 - acc: 0.9347 - mse: 257.8526 - mae: 10.5778 - val_loss: 13.3616 - val_acc: 0.9363 - val_mse: 260.1120 - val_mae: 10.5778\n",
      "Epoch 27/400\n",
      "1013/1013 [==============================] - 23s 22ms/step - loss: 13.3434 - acc: 0.9350 - mse: 257.4459 - mae: 10.5645 - val_loss: 13.3030 - val_acc: 0.9360 - val_mse: 258.6595 - val_mae: 10.5336\n",
      "Epoch 28/400\n",
      "1013/1013 [==============================] - 23s 22ms/step - loss: 13.3599 - acc: 0.9345 - mse: 257.7953 - mae: 10.5769 - val_loss: 13.5871 - val_acc: 0.9338 - val_mse: 263.8626 - val_mae: 10.7478\n",
      "Epoch 29/400\n",
      "1013/1013 [==============================] - 21s 21ms/step - loss: 13.3416 - acc: 0.9349 - mse: 257.4718 - mae: 10.5631 - val_loss: 13.3787 - val_acc: 0.9362 - val_mse: 257.6166 - val_mae: 10.5910\n",
      "Epoch 30/400\n",
      "1013/1013 [==============================] - 20s 20ms/step - loss: 13.3587 - acc: 0.9347 - mse: 257.7284 - mae: 10.5760 - val_loss: 13.2383 - val_acc: 0.9360 - val_mse: 255.5675 - val_mae: 10.4860\n",
      "\n",
      "Epoch 00030: saving model to ./checkpoints/quantized_model_0.5_ckpt_epoch_30.hdf5\n",
      "Epoch 31/400\n",
      "1013/1013 [==============================] - 22s 21ms/step - loss: 13.3161 - acc: 0.9353 - mse: 256.8528 - mae: 10.5442 - val_loss: 13.2331 - val_acc: 0.9368 - val_mse: 255.6673 - val_mae: 10.4818\n",
      "Epoch 32/400\n",
      "1013/1013 [==============================] - 22s 22ms/step - loss: 13.3369 - acc: 0.9348 - mse: 257.2598 - mae: 10.5596 - val_loss: 13.1976 - val_acc: 0.9353 - val_mse: 254.4328 - val_mae: 10.4555\n",
      "Epoch 33/400\n",
      "1013/1013 [==============================] - 21s 20ms/step - loss: 13.3415 - acc: 0.9349 - mse: 257.3474 - mae: 10.5631 - val_loss: 13.4350 - val_acc: 0.9317 - val_mse: 258.0123 - val_mae: 10.6340\n",
      "Epoch 34/400\n",
      "1013/1013 [==============================] - 22s 21ms/step - loss: 13.3268 - acc: 0.9349 - mse: 257.0508 - mae: 10.5521 - val_loss: 13.6863 - val_acc: 0.9338 - val_mse: 266.0799 - val_mae: 10.8199\n",
      "Epoch 35/400\n",
      "1013/1013 [==============================] - 21s 21ms/step - loss: 13.3247 - acc: 0.9351 - mse: 257.0085 - mae: 10.5505 - val_loss: 13.3520 - val_acc: 0.9346 - val_mse: 257.9240 - val_mae: 10.5721\n",
      "\n",
      "Epoch 00035: saving model to ./checkpoints/quantized_model_0.5_ckpt_epoch_35.hdf5\n",
      "Epoch 36/400\n",
      "1013/1013 [==============================] - 21s 21ms/step - loss: 13.3259 - acc: 0.9350 - mse: 257.1816 - mae: 10.5514 - val_loss: 13.2233 - val_acc: 0.9374 - val_mse: 256.6957 - val_mae: 10.4740\n",
      "Epoch 37/400\n"
     ]
    },
    {
     "name": "stdout",
     "output_type": "stream",
     "text": [
      "1013/1013 [==============================] - 23s 23ms/step - loss: 13.3276 - acc: 0.9350 - mse: 257.1952 - mae: 10.5527 - val_loss: 13.2545 - val_acc: 0.9344 - val_mse: 255.4129 - val_mae: 10.4988\n",
      "Epoch 38/400\n",
      "1013/1013 [==============================] - 21s 21ms/step - loss: 13.3360 - acc: 0.9349 - mse: 257.2811 - mae: 10.5590 - val_loss: 13.2047 - val_acc: 0.9371 - val_mse: 255.7591 - val_mae: 10.4602\n",
      "Epoch 39/400\n",
      "1013/1013 [==============================] - 22s 22ms/step - loss: 13.3407 - acc: 0.9349 - mse: 257.4052 - mae: 10.5625 - val_loss: 13.2929 - val_acc: 0.9372 - val_mse: 257.9536 - val_mae: 10.5268\n",
      "Epoch 40/400\n",
      "1013/1013 [==============================] - 23s 22ms/step - loss: 13.3377 - acc: 0.9350 - mse: 257.4196 - mae: 10.5602 - val_loss: 13.4873 - val_acc: 0.9341 - val_mse: 262.8503 - val_mae: 10.6712\n",
      "\n",
      "Epoch 00040: saving model to ./checkpoints/quantized_model_0.5_ckpt_epoch_40.hdf5\n",
      "Epoch 41/400\n",
      "1013/1013 [==============================] - 21s 21ms/step - loss: 13.3089 - acc: 0.9351 - mse: 256.6825 - mae: 10.5387 - val_loss: 13.2904 - val_acc: 0.9365 - val_mse: 258.4819 - val_mae: 10.5242\n",
      "Epoch 42/400\n",
      "1013/1013 [==============================] - 23s 22ms/step - loss: 13.3256 - acc: 0.9352 - mse: 257.0627 - mae: 10.5512 - val_loss: 13.5513 - val_acc: 0.9340 - val_mse: 260.0769 - val_mae: 10.7216\n",
      "Epoch 43/400\n",
      "1013/1013 [==============================] - 22s 22ms/step - loss: 13.3232 - acc: 0.9349 - mse: 257.0042 - mae: 10.5495 - val_loss: 13.3192 - val_acc: 0.9368 - val_mse: 257.8127 - val_mae: 10.5466\n",
      "Epoch 44/400\n",
      "1013/1013 [==============================] - 22s 22ms/step - loss: 13.3193 - acc: 0.9351 - mse: 256.9692 - mae: 10.5465 - val_loss: 13.2129 - val_acc: 0.9365 - val_mse: 255.6300 - val_mae: 10.4664\n",
      "Epoch 45/400\n",
      "1013/1013 [==============================] - 23s 22ms/step - loss: 13.3224 - acc: 0.9350 - mse: 257.0565 - mae: 10.5488 - val_loss: 14.0787 - val_acc: 0.9219 - val_mse: 268.2581 - val_mae: 11.1175\n",
      "\n",
      "Epoch 00045: saving model to ./checkpoints/quantized_model_0.5_ckpt_epoch_45.hdf5\n",
      "Epoch 46/400\n",
      "1013/1013 [==============================] - 21s 21ms/step - loss: 13.3179 - acc: 0.9352 - mse: 256.9048 - mae: 10.5455 - val_loss: 13.3188 - val_acc: 0.9362 - val_mse: 257.0922 - val_mae: 10.5465\n",
      "Epoch 47/400\n",
      "1013/1013 [==============================] - 21s 21ms/step - loss: 13.3092 - acc: 0.9351 - mse: 256.6902 - mae: 10.5389 - val_loss: 13.4534 - val_acc: 0.9359 - val_mse: 260.6961 - val_mae: 10.6461\n",
      "Epoch 48/400\n",
      "1013/1013 [==============================] - 21s 21ms/step - loss: 13.3213 - acc: 0.9348 - mse: 256.9113 - mae: 10.5480 - val_loss: 13.2794 - val_acc: 0.9356 - val_mse: 258.7947 - val_mae: 10.5162\n",
      "Epoch 49/400\n",
      "1013/1013 [==============================] - 21s 20ms/step - loss: 13.3065 - acc: 0.9353 - mse: 256.6981 - mae: 10.5369 - val_loss: 13.3317 - val_acc: 0.9330 - val_mse: 257.3052 - val_mae: 10.5558\n",
      "Epoch 50/400\n",
      "1013/1013 [==============================] - 21s 21ms/step - loss: 13.3246 - acc: 0.9349 - mse: 257.0387 - mae: 10.5505 - val_loss: 13.2476 - val_acc: 0.9354 - val_mse: 256.1389 - val_mae: 10.4934\n",
      "\n",
      "Epoch 00050: saving model to ./checkpoints/quantized_model_0.5_ckpt_epoch_50.hdf5\n",
      "Epoch 51/400\n",
      "1013/1013 [==============================] - 20s 20ms/step - loss: 13.3026 - acc: 0.9351 - mse: 256.6824 - mae: 10.5339 - val_loss: 13.3402 - val_acc: 0.9352 - val_mse: 257.7028 - val_mae: 10.5617\n",
      "Epoch 52/400\n",
      "1013/1013 [==============================] - 21s 21ms/step - loss: 13.3038 - acc: 0.9351 - mse: 256.7201 - mae: 10.5348 - val_loss: 13.2499 - val_acc: 0.9352 - val_mse: 257.3482 - val_mae: 10.4940\n"
     ]
    },
    {
     "name": "stderr",
     "output_type": "stream",
     "text": [
      "[INFO    ] Done training. Time elapsed: 0:18:44.705806 sec\n",
      "[INFO    ] Epoch 52/52 - loss: 13.303789138793945 - val_loss: 13.24991226196289\n"
     ]
    }
   ],
   "source": [
    "bits = 8\n",
    "ints = 4\n",
    "\n",
    "normal_epochs = 400\n",
    "normal_batch_size = 2000\n",
    "l1_reg = 0.0\n",
    "l2_reg = 0.0\n",
    "learning_rate = 0.075\n",
    "gradient_clip_norm = 100.\n",
    "initializer = \"glorot_uniform\"\n",
    "# callbacks\n",
    "lr_decay = LearningRateScheduler(lr_schedule)\n",
    "terminate_on_nan = TerminateOnNaN()\n",
    "early_stopping = EarlyStopping(monitor = \"val_loss\", \n",
    "                               min_delta= 1e-4, \n",
    "                               mode = \"auto\", \n",
    "                               patience = 20)\n",
    "model_ckpt = ModelCheckpoint(monitor=\"val_loss\", \n",
    "                           verbose = 1,\n",
    "                           filepath = \"./checkpoints/quantized_model_0.5_ckpt_epoch_{epoch:02d}.hdf5\",\n",
    "                           period = 5)\n",
    "\n",
    "qmodel = create_model_quantized(baseline = unquantized_model,\n",
    "                                bits = bits,\n",
    "                                int_bits = ints,\n",
    "                                nvariables = NVARIABLES, \n",
    "                                lr = learning_rate, \n",
    "                                clipnorm = gradient_clip_norm, \n",
    "                                nodes1=10, \n",
    "                                nodes2=7, \n",
    "                                nodes3=5, \n",
    "                                outnodes=2,\n",
    "                                initializer = initializer,\n",
    "                                l1_reg = l1_reg, \n",
    "                                l2_reg = l2_reg)\n",
    "\n",
    "logger.info('Training model with l1_reg: {0} l2_reg: {1}'.format(l1_reg, l2_reg))\n",
    "\n",
    "qmodel, history = train_model(qmodel, \n",
    "                      x_train_displ, \n",
    "                      np.column_stack((y_train_displ, dxy_train_displ)),\n",
    "                      save_model=False, \n",
    "                      epochs=normal_epochs, \n",
    "                      batch_size=normal_batch_size,\n",
    "                      callbacks=[lr_decay,\n",
    "                                 terminate_on_nan,\n",
    "                                 early_stopping,\n",
    "                                 model_ckpt], \n",
    "                      validation_split=0.1, \n",
    "                      verbose=True)\n",
    "\n",
    "metrics = [len(history.history['loss']), history.history['loss'][-1], history.history['val_loss'][-1]]\n",
    "logger.info('Epoch {0}/{0} - loss: {1} - val_loss: {2}'.format(*metrics))"
   ]
  },
  {
   "cell_type": "code",
   "execution_count": 28,
   "id": "d339ec65",
   "metadata": {},
   "outputs": [
    {
     "name": "stdout",
     "output_type": "stream",
     "text": [
      "MAE as obtained on test dataset:\n"
     ]
    },
    {
     "name": "stderr",
     "output_type": "stream",
     "text": [
      "2022-01-12 13:56:30.077081: I tensorflow/core/grappler/optimizers/custom_graph_optimizer_registry.cc:112] Plugin optimizer for device_type GPU is enabled.\n"
     ]
    },
    {
     "name": "stdout",
     "output_type": "stream",
     "text": [
      "Mean MAE for 1-Fold cv for momentum = 11.774854921997681\n",
      "Mean MAE for 1-Fold cv for displacement = 15.274830393718315\n",
      "RMSE as obtained on test dataset:\n",
      "Mean RMSE for 1-Fold cv for momentum = 54.35100896892075\n",
      "Mean RMSE for 1-Fold cv for displacement = 21.21659059172043\n"
     ]
    },
    {
     "name": "stderr",
     "output_type": "stream",
     "text": [
      "[INFO    ] # of entries: 1034656, mean: 0.02706455695860494, std: 0.19501568248208578\n",
      "[INFO    ] gaus fit (a, mu, sig): [ 4.22548298e+04 -2.62976076e-02  3.45261503e-01]\n"
     ]
    },
    {
     "data": {
      "image/png": "[encoded data removed]",
      "text/plain": [
       "<Figure size 375x375 with 1 Axes>"
      ]
     },
     "metadata": {
      "needs_background": "light"
     },
     "output_type": "display_data"
    },
    {
     "name": "stderr",
     "output_type": "stream",
     "text": [
      "[INFO    ] # of entries: 150336, mean: -1.0915630611214449, std: 18.00020187466566\n",
      "[INFO    ] gaus fit (a, mu, sig): [ 6.93089986e+03 -1.29036498e+00  6.80605342e+00]\n"
     ]
    },
    {
     "data": {
      "image/png": "[encoded data removed]",
      "text/plain": [
       "<Figure size 375x375 with 1 Axes>"
      ]
     },
     "metadata": {
      "needs_background": "light"
     },
     "output_type": "display_data"
    }
   ],
   "source": [
    "print(\"MAE as obtained on test dataset:\")\n",
    "k_fold_validation(model = qmodel, \n",
    "                  x = x_test_displ,  \n",
    "                  y = y_test_displ, \n",
    "                  dxy = dxy_test_displ, \n",
    "                  folds = 1,\n",
    "                  metric_type=\"MAE\")\n",
    "\n",
    "print(\"RMSE as obtained on test dataset:\")\n",
    "k_fold_validation(model = qmodel, \n",
    "                  x = x_test_displ,  \n",
    "                  y = y_test_displ, \n",
    "                  dxy = dxy_test_displ, \n",
    "                  folds = 1,\n",
    "                  metric_type = \"RMSE\")\n",
    "\n",
    "# Evaluate the quantized resolution\n",
    "__generate_delta_plots__(model = qmodel,\n",
    "                        x = x_test_displ,\n",
    "                        y = y_test_displ,\n",
    "                        dxy = dxy_test_displ,\n",
    "                        color = \"plum\"\n",
    "                        )"
   ]
  },
  {
   "cell_type": "code",
   "execution_count": 23,
   "id": "a2f533c7",
   "metadata": {},
   "outputs": [],
   "source": [
    "def save_qmodel(model_for_export,\n",
    "                bits: int = 8,\n",
    "                int_bits: int = 0,\n",
    "                sparsity: int = 0):\n",
    "    \n",
    "    if sparsity:\n",
    "        qkeras_file =\"./models/quantized_bits_{}_int_{}_sparsity_{}.h5\".format(bits, int_bits, sparsity)\n",
    "        weights_file = \"./models/quantized_bits_{}_int_{}_sparsity_{}_weights.h5\".format(bits, int_bits, sparsity)\n",
    "        model_for_export.save(filepath = qkeras_file, include_optimizer=False)\n",
    "        qkeras.utils.model_save_quantized_weights(model_for_export, weights_file)\n",
    "    else:\n",
    "        qkeras_file = \"./models/quantized_model_bits_{}_int_{}_sparsity_0.h5\".format(bits, int_bits)\n",
    "        weights_file = \"./models/quantized_model_bits_{}_int_{}_sparsity_0_weights.h5\".format(bits, int_bits)\n",
    "        model_for_export.save(filepath = qkeras_file, include_optimizer=False)\n",
    "        qkeras.utils.model_save_quantized_weights(model_for_export, weights_file)      \n",
    "\n",
    "def save_training_history(training_history_dict,\n",
    "                          bits:int = 8, \n",
    "                          int_bits:int = 0, \n",
    "                          sparsity: int = 0):\n",
    "    filename = \"trainHistoryDict_model_bits_{}_ints_{}_sparsity_{}\".format(bits, int_bits, sparsity)\n",
    "    with open(filename, 'wb') as file_pi:\n",
    "        pickle.dump(history.history, file_pi)"
   ]
  },
  {
   "cell_type": "code",
   "execution_count": 29,
   "id": "efed990c",
   "metadata": {},
   "outputs": [
    {
     "name": "stdout",
     "output_type": "stream",
     "text": [
      "... quantizing model\n",
      "  bn-input has not been quantized\n",
      "  bn-1 has not been quantized\n",
      "  bn-2 has not been quantized\n",
      "  bn-3 has not been quantized\n"
     ]
    }
   ],
   "source": [
    "save_qmodel(qmodel, \n",
    "            bits = 8,\n",
    "            int_bits = 4,\n",
    "            sparsity = 0)\n",
    "\n",
    "save_training_history(history,\n",
    "                      bits = 8,\n",
    "                      int_bits = 4,\n",
    "                      sparsity = 0)"
   ]
  },
  {
   "cell_type": "code",
   "execution_count": null,
   "id": "272d0ecd",
   "metadata": {},
   "outputs": [],
   "source": []
  }
 ],
 "metadata": {
  "kernelspec": {
   "display_name": "Python 3 (ipykernel)",
   "language": "python",
   "name": "python3"
  },
  "language_info": {
   "codemirror_mode": {
    "name": "ipython",
    "version": 3
   },
   "file_extension": ".py",
   "mimetype": "text/x-python",
   "name": "python",
   "nbconvert_exporter": "python",
   "pygments_lexer": "ipython3",
   "version": "3.8.12"
  }
 },
 "nbformat": 4,
 "nbformat_minor": 5
}
