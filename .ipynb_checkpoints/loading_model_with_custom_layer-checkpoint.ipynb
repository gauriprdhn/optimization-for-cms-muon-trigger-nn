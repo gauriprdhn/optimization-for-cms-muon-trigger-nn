{
 "cells": [
  {
   "cell_type": "markdown",
   "id": "7245ea27",
   "metadata": {},
   "source": [
    "***\n",
    "### Tutorial to load a keras model with custom layer(s):\n",
    "\n",
    "This notebook can be used to load the model with custom layer using the function `loading_pruned_model` available in the package. The necessary imports can be installed using the cell below. For all the classes that are not buint-in to the tensorflow/keras library, you have to use the `custom_objects` parameter to specify them so that when reading the .json file to ascertain the model architecture, the function `load_model_from_json` can identify any customized layers/operations. \n",
    "\n",
    "The format to declare the custom class object in the function call is `\"Class/Function Name String\": Class/ Function`. Example: for our custom layer the declaration is as follow: `\"MaskedDense\": MaskedDense`.\n",
    "\n",
    "> The convention used to save the pruned models are as follows:\n",
    "> 1. The baseline is simply named `model` in the files.\n",
    "> 2. Models pruning via unstructured pruning are saved with the prefix `custom_model_US_{Sparsity %}`. For example,  model pruned to 50% the baseline is saved as `custom_model_US_50`.\n",
    "> 3. Models pruning via structured pruning are saved with the prefix `custom_model_ST_{Sparsity %}`. For example, model pruned to 50% the baseline is saved as `custom_model_ST_50`.\n",
    "***"
   ]
  },
  {
   "cell_type": "code",
   "execution_count": 1,
   "id": "7410229f",
   "metadata": {},
   "outputs": [
    {
     "name": "stdout",
     "output_type": "stream",
     "text": [
      "2.6.0\n",
      "2.6.0\n",
      "1.3.4\n",
      "1.19.5\n"
     ]
    }
   ],
   "source": [
    "import tensorflow as tf \n",
    "import keras\n",
    "import numpy as np\n",
    "import pandas as pd\n",
    "print(tf.__version__)\n",
    "print(keras.__version__)\n",
    "print(pd.__version__)\n",
    "print(np.__version__)\n",
    "\n",
    "from nn_globals import *\n",
    "from nn_evaluate import get_sparsity,k_fold_validation\n",
    "from nn_plotting import __generate_delta_plots__\n",
    "from dataset import muon_data_split\n",
    "from nn_pruning_module_support import loading_trained_model\n",
    "\n",
    "from custom_dense_layer import MaskedDense\n",
    "from keras.regularizers import l1_l2\n",
    "from keras.initializers import glorot_uniform"
   ]
  },
  {
   "cell_type": "code",
   "execution_count": 2,
   "id": "416363a1",
   "metadata": {},
   "outputs": [
    {
     "name": "stdout",
     "output_type": "stream",
     "text": [
      "./models/custom_model_US_50.json\n",
      "./models/custom_model_US_50_weights.h5\n",
      "Metal device set to: Apple M1\n",
      "Loaded model from disk\n",
      "Model: \"model_7\"\n",
      "_________________________________________________________________\n",
      "Layer (type)                 Output Shape              Param #   \n",
      "=================================================================\n",
      "input_layer (InputLayer)     [(None, 23)]              0         \n",
      "_________________________________________________________________\n",
      "batchnorm-1 (BatchNormalizat (None, 23)                92        \n",
      "_________________________________________________________________\n",
      "masked_dense-1 (MaskedDense) (None, 20)                460       \n",
      "_________________________________________________________________\n",
      "batchnorm-2 (BatchNormalizat (None, 20)                80        \n",
      "_________________________________________________________________\n",
      "layer_activation-1 (Activati (None, 20)                0         \n",
      "_________________________________________________________________\n",
      "masked_dense-2 (MaskedDense) (None, 15)                300       \n",
      "_________________________________________________________________\n",
      "batchnorm-3 (BatchNormalizat (None, 15)                60        \n",
      "_________________________________________________________________\n",
      "layer_activation-2 (Activati (None, 15)                0         \n",
      "_________________________________________________________________\n",
      "masked_dense-3 (MaskedDense) (None, 10)                150       \n",
      "_________________________________________________________________\n",
      "batchnorm-4 (BatchNormalizat (None, 10)                40        \n",
      "_________________________________________________________________\n",
      "layer_activation-3 (Activati (None, 10)                0         \n",
      "_________________________________________________________________\n",
      "output_dense (Dense)         (None, 2)                 22        \n",
      "=================================================================\n",
      "Total params: 1,204\n",
      "Trainable params: 1,068\n",
      "Non-trainable params: 136\n",
      "_________________________________________________________________\n"
     ]
    },
    {
     "name": "stderr",
     "output_type": "stream",
     "text": [
      "2022-01-26 09:59:19.832099: I tensorflow/core/common_runtime/pluggable_device/pluggable_device_factory.cc:305] Could not identify NUMA node of platform GPU ID 0, defaulting to 0. Your kernel may not have been built with NUMA support.\n",
      "2022-01-26 09:59:19.832190: I tensorflow/core/common_runtime/pluggable_device/pluggable_device_factory.cc:271] Created TensorFlow device (/job:localhost/replica:0/task:0/device:GPU:0 with 0 MB memory) -> physical PluggableDevice (device: 0, name: METAL, pci bus id: <undefined>)\n"
     ]
    }
   ],
   "source": [
    "pruned_model = loading_trained_model(filepath = \"./models\",\n",
    "                                 model_filename = \"custom_model_US_50\",\n",
    "                                 custom_objects ={'GlorotUniform': glorot_uniform(), \n",
    "                                                  \"MaskedDense\": MaskedDense, \n",
    "                                                  \"L1L2\": l1_l2()})\n",
    "pruned_model.summary()"
   ]
  },
  {
   "cell_type": "code",
   "execution_count": 3,
   "id": "12a2e7e5",
   "metadata": {},
   "outputs": [
    {
     "name": "stdout",
     "output_type": "stream",
     "text": [
      "Sparsity of the masked_dense-1 layer is = 0.5\n",
      "Sparsity of the masked_dense-2 layer is = 0.5\n",
      "Sparsity of the masked_dense-3 layer is = 0.5\n",
      "Sparsity of the output_dense layer is = 0.0\n"
     ]
    }
   ],
   "source": [
    "# verify the sparsity of loaded pruned model\n",
    "for layer in pruned_model.layers:\n",
    "    if \"dense\" in layer.name:\n",
    "        print(\"Sparsity of the {} layer is = {}\".format(layer.name, get_sparsity(layer.get_weights()[0])))"
   ]
  },
  {
   "cell_type": "markdown",
   "id": "34aae7ca",
   "metadata": {},
   "source": [
    "***\n",
    "### Evaluating the model:\n",
    "To use the model for prediction, suggestion is to use the functions available in `nn_evaluate` file. The code to preprocess the data can be used to load and extract relevant features from the raw file. **NOTE:** file path to the data needs to be edited in the `nn_globals.py` in place of variable `DATAFILEPATH`.\n",
    "***"
   ]
  },
  {
   "cell_type": "code",
   "execution_count": 4,
   "id": "514eea9e",
   "metadata": {},
   "outputs": [
    {
     "name": "stderr",
     "output_type": "stream",
     "text": [
      "[INFO    ] Loading muon data from ./data/NN_input_params_FlatXYZ.npz ...\n",
      "[INFO    ] Loaded the variables with shape (19300000, 25)\n",
      "[INFO    ] Loaded the parameters with shape (19300000, 6)\n",
      "[INFO    ] Loaded the encoded variables with shape (3284620, 23)\n",
      "[INFO    ] Loaded the encoded parameters with shape (3284620,)\n"
     ]
    }
   ],
   "source": [
    "# Import muon data\n",
    "# 'x' is the array of input variables, 'y' is the q/pT\n",
    "x, y, dxy = muon_data_split(filename=DATAFILEPATH, \n",
    "                           reg_pt_scale=REG_PT_SCALE, \n",
    "                           reg_dxy_scale=REG_DXY_SCALE, \n",
    "                           test_size=0,\n",
    "                           nvariables = NVARIABLES,\n",
    "                           nentries= NENTRIES,\n",
    "                           batch_size = 128)\n"
   ]
  },
  {
   "cell_type": "markdown",
   "id": "cc5cd4b9",
   "metadata": {},
   "source": [
    "***\n",
    "With `k_fold_validation`, using `metric_type` argument, we can change the type of evaluation metric. It can be `[\"RMSE\", \"MAE\", \"MAPE\"]`\n",
    "\n",
    "Using `__generate_delta_plots__` we can get a gaussian approximation for the errors for momentum and angular displacement.\n",
    "***"
   ]
  },
  {
   "cell_type": "code",
   "execution_count": 5,
   "id": "1e89d592",
   "metadata": {},
   "outputs": [
    {
     "name": "stderr",
     "output_type": "stream",
     "text": [
      "2022-01-26 09:59:41.447686: I tensorflow/compiler/mlir/mlir_graph_optimization_pass.cc:185] None of the MLIR Optimization Passes are enabled (registered 2)\n",
      "2022-01-26 09:59:41.451193: W tensorflow/core/platform/profile_utils/cpu_utils.cc:128] Failed to get CPU frequency: 0 Hz\n",
      "2022-01-26 09:59:41.524312: I tensorflow/core/grappler/optimizers/custom_graph_optimizer_registry.cc:112] Plugin optimizer for device_type GPU is enabled.\n"
     ]
    },
    {
     "name": "stdout",
     "output_type": "stream",
     "text": [
      "Mean RMSE for 1-Fold cv for momentum = 51.78377328991298\n",
      "Mean RMSE for 1-Fold cv for displacement = 16.259678926968153\n"
     ]
    }
   ],
   "source": [
    "k_fold_validation(model = pruned_model,\n",
    "                    x = x,\n",
    "                    y = y,\n",
    "                    dxy = dxy,\n",
    "                    folds=1,\n",
    "                    eval_batch_size=2000,\n",
    "                    metric_type='RMSE')"
   ]
  },
  {
   "cell_type": "code",
   "execution_count": 6,
   "id": "f5031c19",
   "metadata": {},
   "outputs": [
    {
     "name": "stdout",
     "output_type": "stream",
     "text": [
      "Mean MAE for 1-Fold cv for momentum = 11.12203941543176\n",
      "Mean MAE for 1-Fold cv for displacement = 11.42685991278913\n"
     ]
    }
   ],
   "source": [
    "k_fold_validation(model = pruned_model,\n",
    "                    x = x,\n",
    "                    y = y,\n",
    "                    dxy = dxy,\n",
    "                    folds=1,\n",
    "                    eval_batch_size=2000,\n",
    "                    metric_type='MAE')"
   ]
  },
  {
   "cell_type": "code",
   "execution_count": 7,
   "id": "a0d24368",
   "metadata": {},
   "outputs": [
    {
     "name": "stderr",
     "output_type": "stream",
     "text": [
      "[INFO    ] # of entries: 3284620, mean: 0.04667046659834623, std: 0.18385446232232602\n",
      "[INFO    ] gaus fit (a, mu, sig): [1.73543164e+05 6.90561793e-03 2.46988691e-01]\n"
     ]
    },
    {
     "data": {
      "image/png": "[encoded data removed]",
      "text/plain": [
       "<Figure size 375x375 with 1 Axes>"
      ]
     },
     "metadata": {
      "needs_background": "light"
     },
     "output_type": "display_data"
    },
    {
     "name": "stderr",
     "output_type": "stream",
     "text": [
      "[INFO    ] # of entries: 477217, mean: 0.7771820962272749, std: 10.247388385745875\n",
      "[INFO    ] gaus fit (a, mu, sig): [3.02985756e+04 8.11024989e-01 5.67178312e+00]\n"
     ]
    },
    {
     "data": {
      "image/png": "[encoded data removed]",
      "text/plain": [
       "<Figure size 375x375 with 1 Axes>"
      ]
     },
     "metadata": {
      "needs_background": "light"
     },
     "output_type": "display_data"
    }
   ],
   "source": [
    "__generate_delta_plots__(model = pruned_model,\n",
    "                        x = x,\n",
    "                        y = y,\n",
    "                        dxy = dxy,\n",
    "                        color='plum',\n",
    "                        batch_size = 4096,\n",
    "                        min_y_val= 20.0)"
   ]
  }
 ],
 "metadata": {
  "kernelspec": {
   "display_name": "Python 3 (ipykernel)",
   "language": "python",
   "name": "python3"
  },
  "language_info": {
   "codemirror_mode": {
    "name": "ipython",
    "version": 3
   },
   "file_extension": ".py",
   "mimetype": "text/x-python",
   "name": "python",
   "nbconvert_exporter": "python",
   "pygments_lexer": "ipython3",
   "version": "3.8.12"
  }
 },
 "nbformat": 4,
 "nbformat_minor": 5
}
