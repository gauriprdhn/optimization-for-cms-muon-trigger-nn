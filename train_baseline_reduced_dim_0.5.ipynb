{
 "cells": [
  {
   "cell_type": "code",
   "execution_count": null,
   "id": "76497b75",
   "metadata": {},
   "outputs": [],
   "source": [
    "import numpy as np\n",
    "import pandas as pd\n",
    "import matplotlib.pyplot as plt\n",
    "import seaborn as sns\n",
    "from sklearn.model_selection import train_test_split\n",
    "import os\n",
    "import keras\n",
    "import tensorflow as tf \n",
    "print(tf.__version__)\n",
    "print(keras.__version__)\n",
    "print(pd.__version__)\n",
    "print(np.__version__)\n",
    "# Script Imports\n",
    "from nn_globals import *\n",
    "from nn_plotting import __generate_delta_plots__\n",
    "from dataset import muon_data_split\n",
    "from nn_evaluate import huber_loss, k_fold_validation\n",
    "from nn_training import train_model, lr_schedule\n",
    "# Keras/TF import\n",
    "from keras.models import Model\n",
    "from nn_pruning_module_support import loading_trained_model\n",
    "from keras.regularizers import L1L2\n",
    "from tensorflow.keras.optimizers import Adam\n",
    "from keras.layers import Input, BatchNormalization, Dense, Activation\n",
    "from keras.callbacks import LearningRateScheduler, TerminateOnNaN, ModelCheckpoint, EarlyStopping"
   ]
  },
  {
   "cell_type": "code",
   "execution_count": null,
   "id": "3be3d994",
   "metadata": {},
   "outputs": [],
   "source": [
    "# # Import muon data\n",
    "# # 'x' is the array of input variables, 'y' is the q/pT\n",
    "# x_train_displ, x_test_displ, y_train_displ, y_test_displ, dxy_train_displ, dxy_test_displ= muon_data_split(filename=DATAFILEPATH, \n",
    "#                                                                                                            reg_pt_scale=REG_PT_SCALE, \n",
    "#                                                                                                            reg_dxy_scale=REG_DXY_SCALE, \n",
    "#                                                                                                            test_size=0,\n",
    "#                                                                                                            nvariables = NVARIABLES,\n",
    "#                                                                                                            nentries= NENTRIES,\n",
    "#                                                                                                            batch_size = 1)\n",
    "\n",
    "x, y, dxy = muon_data_split(filename=DATAFILEPATH, \n",
    "                           reg_pt_scale=REG_PT_SCALE, \n",
    "                           reg_dxy_scale=REG_DXY_SCALE, \n",
    "                           test_size=0,\n",
    "                           nvariables = NVARIABLES,\n",
    "                           nentries= NENTRIES,\n",
    "                           batch_size = 1)\n"
   ]
  },
  {
   "cell_type": "code",
   "execution_count": 3,
   "id": "6aa68a09",
   "metadata": {},
   "outputs": [
    {
     "name": "stderr",
     "output_type": "stream",
     "text": [
      "2022-01-25 10:28:33.474822: I tensorflow/core/common_runtime/pluggable_device/pluggable_device_factory.cc:305] Could not identify NUMA node of platform GPU ID 0, defaulting to 0. Your kernel may not have been built with NUMA support.\n",
      "2022-01-25 10:28:33.475040: I tensorflow/core/common_runtime/pluggable_device/pluggable_device_factory.cc:271] Created TensorFlow device (/job:localhost/replica:0/task:0/device:GPU:0 with 0 MB memory) -> physical PluggableDevice (device: 0, name: METAL, pci bus id: <undefined>)\n"
     ]
    },
    {
     "name": "stdout",
     "output_type": "stream",
     "text": [
      "./models/baseline_reduced_dim_0.5.json\n",
      "./models/baseline_reduced_dim_0.5_weights.h5\n",
      "Metal device set to: Apple M1\n",
      "Loaded model from disk\n",
      "Model: \"baseline-model\"\n",
      "_________________________________________________________________\n",
      "Layer (type)                 Output Shape              Param #   \n",
      "=================================================================\n",
      "input_1 (InputLayer)         [(None, 23)]              0         \n",
      "_________________________________________________________________\n",
      "bn-input (BatchNormalization (None, 23)                92        \n",
      "_________________________________________________________________\n",
      "hidden-dense-1 (Dense)       (None, 10)                230       \n",
      "_________________________________________________________________\n",
      "bn-1 (BatchNormalization)    (None, 10)                40        \n",
      "_________________________________________________________________\n",
      "act_1 (Activation)           (None, 10)                0         \n",
      "_________________________________________________________________\n",
      "hidden-dense-2 (Dense)       (None, 7)                 70        \n",
      "_________________________________________________________________\n",
      "bn-2 (BatchNormalization)    (None, 7)                 28        \n",
      "_________________________________________________________________\n",
      "act_2 (Activation)           (None, 7)                 0         \n",
      "_________________________________________________________________\n",
      "hidden-dense-3 (Dense)       (None, 5)                 35        \n",
      "_________________________________________________________________\n",
      "bn-3 (BatchNormalization)    (None, 5)                 20        \n",
      "_________________________________________________________________\n",
      "act_3 (Activation)           (None, 5)                 0         \n",
      "_________________________________________________________________\n",
      "dense-output (Dense)         (None, 2)                 12        \n",
      "_________________________________________________________________\n",
      "activation (Activation)      (None, 2)                 0         \n",
      "=================================================================\n",
      "Total params: 527\n",
      "Trainable params: 437\n",
      "Non-trainable params: 90\n",
      "_________________________________________________________________\n"
     ]
    }
   ],
   "source": [
    "model = loading_trained_model(filepath= MODELFILEPATH,\n",
    "                            model_filename='baseline_reduced_dim_0.5',\n",
    "                            custom_objects=None,\n",
    "                            is_quantized=False)\n",
    "\n",
    "model.summary()"
   ]
  },
  {
   "cell_type": "code",
   "execution_count": 4,
   "id": "d234f447",
   "metadata": {},
   "outputs": [
    {
     "name": "stdout",
     "output_type": "stream",
     "text": [
      "MAE as obtained on test dataset:\n"
     ]
    },
    {
     "name": "stderr",
     "output_type": "stream",
     "text": [
      "2022-01-25 10:29:24.332913: I tensorflow/compiler/mlir/mlir_graph_optimization_pass.cc:185] None of the MLIR Optimization Passes are enabled (registered 2)\n",
      "2022-01-25 10:29:24.333683: W tensorflow/core/platform/profile_utils/cpu_utils.cc:128] Failed to get CPU frequency: 0 Hz\n",
      "2022-01-25 10:29:24.407476: I tensorflow/core/grappler/optimizers/custom_graph_optimizer_registry.cc:112] Plugin optimizer for device_type GPU is enabled.\n"
     ]
    },
    {
     "name": "stdout",
     "output_type": "stream",
     "text": [
      "Mean MAE for 1-Fold cv for momentum = 11.18579405117831\n",
      "Mean MAE for 1-Fold cv for displacement = 11.96009238373833\n",
      "RMSE as obtained on test dataset:\n",
      "Mean RMSE for 1-Fold cv for momentum = 51.85780790677291\n",
      "Mean RMSE for 1-Fold cv for displacement = 16.958644504258576\n"
     ]
    },
    {
     "name": "stderr",
     "output_type": "stream",
     "text": [
      "[INFO    ] # of entries: 3284620, mean: 0.050921065391186564, std: 0.18651998289747898\n",
      "[INFO    ] gaus fit (a, mu, sig): [1.65564396e+05 4.77824171e-03 2.61804380e-01]\n"
     ]
    },
    {
     "data": {
      "image/png": "[encoded data removed]",
      "text/plain": [
       "<Figure size 375x375 with 1 Axes>"
      ]
     },
     "metadata": {
      "needs_background": "light"
     },
     "output_type": "display_data"
    },
    {
     "name": "stderr",
     "output_type": "stream",
     "text": [
      "[INFO    ] # of entries: 477217, mean: 0.7106815550905224, std: 10.872017367715712\n",
      "[INFO    ] gaus fit (a, mu, sig): [2.64733136e+04 6.23976807e-01 6.50957057e+00]\n"
     ]
    },
    {
     "data": {
      "image/png": "[encoded data removed]",
      "text/plain": [
       "<Figure size 375x375 with 1 Axes>"
      ]
     },
     "metadata": {
      "needs_background": "light"
     },
     "output_type": "display_data"
    }
   ],
   "source": [
    "print(\"MAE as obtained on test dataset:\")\n",
    "k_fold_validation(model = model, \n",
    "                  x = x,  \n",
    "                  y = y, \n",
    "                  dxy = dxy, \n",
    "                  folds = 1,\n",
    "                  metric_type=\"MAE\")\n",
    "\n",
    "print(\"RMSE as obtained on test dataset:\")\n",
    "k_fold_validation(model = model, \n",
    "                  x = x,  \n",
    "                  y = y, \n",
    "                  dxy = dxy, \n",
    "                  folds = 1,\n",
    "                  metric_type = \"RMSE\")\n",
    "\n",
    "# Evaluate the quantized resolution\n",
    "__generate_delta_plots__(model = model,\n",
    "                        x = x,\n",
    "                        y = y,\n",
    "                        dxy = dxy,\n",
    "                        color = \"plum\"\n",
    "                        )"
   ]
  },
  {
   "cell_type": "code",
   "execution_count": null,
   "id": "c69e3b87",
   "metadata": {},
   "outputs": [],
   "source": [
    "def create_model(nvariables, \n",
    "                 lr=0.001, \n",
    "                 clipnorm=10., \n",
    "                 initializer = \"glorot_uniform\",\n",
    "                 nodes1=64, \n",
    "                 nodes2=32, \n",
    "                 nodes3=16, \n",
    "                 outnodes=2,\n",
    "                 l1_reg = 0.0, \n",
    "                 l2_reg = 0.0):\n",
    "  \n",
    "    regularizer = L1L2(l1=l1_reg, l2=l2_reg)\n",
    "    bn_momentum = 0.9\n",
    "    eps = 1e-4\n",
    "\n",
    "    x = x_in = Input((nvariables,))\n",
    "    x = BatchNormalization(epsilon=eps, momentum=bn_momentum,name=\"bn-input\")(x)\n",
    "    \n",
    "    x = Dense(nodes1, \n",
    "               kernel_initializer=initializer,\n",
    "               use_bias = False,\n",
    "               kernel_regularizer = regularizer,\n",
    "               name=\"hidden-dense-1\")(x)\n",
    "    x = BatchNormalization(epsilon = eps, momentum  = bn_momentum, name = \"bn-1\")(x)\n",
    "    x = Activation(activation = \"tanh\",name=\"act_1\")(x)\n",
    "    \n",
    "    if nodes2:\n",
    "    \n",
    "        x = Dense(nodes2, \n",
    "                   kernel_initializer=initializer,\n",
    "                   use_bias = False,\n",
    "                   kernel_regularizer = regularizer,\n",
    "                   name=\"hidden-dense-2\")(x)\n",
    "        x = BatchNormalization(epsilon = eps, momentum  = bn_momentum, name = \"bn-2\")(x)\n",
    "        x = Activation(activation = \"tanh\",name=\"act_2\")(x)\n",
    "        if nodes3:\n",
    "\n",
    "            x = Dense(nodes3, \n",
    "                       kernel_initializer=initializer,\n",
    "                       kernel_regularizer = regularizer,\n",
    "                       use_bias = False,\n",
    "                       name=\"hidden-dense-3\")(x)\n",
    "            x = BatchNormalization(epsilon = eps, momentum  = bn_momentum, name = \"bn-3\")(x)\n",
    "            x = Activation(activation = \"tanh\", name=\"act_3\")(x)\n",
    "\n",
    "    x = Dense(outnodes,kernel_initializer = initializer,name=\"dense-output\")(x)\n",
    "    x = Activation(\"linear\")(x)\n",
    "    \n",
    "    model = Model(inputs=x_in, outputs=x,name=\"baseline-model\")\n",
    "    \n",
    "    adam = Adam(lr=lr, clipnorm=clipnorm)\n",
    "    model.compile(optimizer=adam, \n",
    "                  loss=huber_loss, \n",
    "                  metrics=['acc','mse','mae'])\n",
    "    model.summary()\n",
    "    \n",
    "    return model\n",
    "    "
   ]
  },
  {
   "cell_type": "code",
   "execution_count": null,
   "id": "d5c420cc",
   "metadata": {
    "scrolled": false
   },
   "outputs": [],
   "source": [
    "assert(keras.backend.backend() == 'tensorflow')\n",
    "\n",
    "normal_epochs = 300\n",
    "normal_batch_size = 1000\n",
    "l1_reg = 0.0\n",
    "l2_reg = 0.0\n",
    "learning_rate = 0.05\n",
    "gradient_clip_norm = 100.\n",
    "\n",
    "lr_decay = LearningRateScheduler(lr_schedule, verbose=1)\n",
    "terminate_on_nan = TerminateOnNaN()\n",
    "model_training_checkpoint = ModelCheckpoint(monitor=\"val_loss\", \n",
    "                                           verbose = 1,\n",
    "                                           filepath = \"checkpoints/half_baseline_model_ckpt_epoch_{epoch:02d}.hdf5\",\n",
    "                                           period = 10)\n",
    "early_stopping = EarlyStopping(monitor = \"val_loss\", \n",
    "                                               min_delta= 1e-5, \n",
    "                                               mode = \"auto\", \n",
    "                                               patience = 10)\n",
    "\n",
    "model = create_model(\n",
    "                    nvariables = NVARIABLES, \n",
    "                    lr = learning_rate, \n",
    "                    clipnorm = gradient_clip_norm, \n",
    "                    nodes1=10, \n",
    "                    nodes2=7, \n",
    "                    nodes3=5, \n",
    "                    outnodes=2,\n",
    "                    l1_reg = l1_reg, \n",
    "                    l2_reg = l2_reg)\n",
    "\n",
    "logger.info('Training model with l1_reg: {0} l2_reg: {1}'.format(l1_reg, l2_reg))\n",
    "\n",
    "model, history = train_model(model, \n",
    "                      x_train_displ, \n",
    "                      np.column_stack((y_train_displ, dxy_train_displ)),\n",
    "                      save_model=False, \n",
    "                      epochs=normal_epochs, \n",
    "                      batch_size=normal_batch_size,\n",
    "                      callbacks=[lr_decay,terminate_on_nan, model_training_checkpoint], \n",
    "                      validation_split=0.1, \n",
    "                      verbose=True)\n",
    "\n",
    "metrics = [len(history.history['loss']), history.history['loss'][-1], history.history['val_loss'][-1]]\n",
    "logger.info('Epoch {0}/{0} - loss: {1} - val_loss: {2}'.format(*metrics))"
   ]
  },
  {
   "cell_type": "code",
   "execution_count": null,
   "id": "5ace39d2",
   "metadata": {},
   "outputs": [],
   "source": [
    "k_fold_validation(model = model,\n",
    "                  x = x_test_displ,\n",
    "                  y = y_test_displ,\n",
    "                  dxy = dxy_test_displ,\n",
    "                  folds = 1,\n",
    "                  metric_type = \"RMSE\")\n",
    "k_fold_validation(model = model,\n",
    "                  x = x_test_displ,\n",
    "                  y = y_test_displ,\n",
    "                  dxy = dxy_test_displ,\n",
    "                  folds = 1,\n",
    "                  metric_type = \"MAE\")\n",
    "__generate_delta_plots__(model,\n",
    "                         x = x_test_displ,\n",
    "                         y = y_test_displ,\n",
    "                         dxy = dxy_test_displ,\n",
    "                         color = \"blue\")"
   ]
  },
  {
   "cell_type": "code",
   "execution_count": null,
   "id": "b1aa2213",
   "metadata": {},
   "outputs": [],
   "source": [
    "# from nn_pruning_module_support import saving_model\n",
    "# saving_model(model = model,\n",
    "#             filepath = \"./models\",\n",
    "#             model_filename = \"baseline_reduced_dim_0.5\")"
   ]
  },
  {
   "cell_type": "code",
   "execution_count": null,
   "id": "ccc9b990",
   "metadata": {},
   "outputs": [],
   "source": []
  }
 ],
 "metadata": {
  "kernelspec": {
   "display_name": "Python 3 (ipykernel)",
   "language": "python",
   "name": "python3"
  },
  "language_info": {
   "codemirror_mode": {
    "name": "ipython",
    "version": 3
   },
   "file_extension": ".py",
   "mimetype": "text/x-python",
   "name": "python",
   "nbconvert_exporter": "python",
   "pygments_lexer": "ipython3",
   "version": "3.8.12"
  }
 },
 "nbformat": 4,
 "nbformat_minor": 5
}
